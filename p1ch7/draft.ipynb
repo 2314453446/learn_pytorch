{
 "cells": [
  {
   "cell_type": "code",
   "execution_count": 1,
   "outputs": [],
   "source": [
    "import torch\n",
    "import torch.nn as nn\n",
    "import torch.optim as optim"
   ],
   "metadata": {
    "collapsed": false
   }
  },
  {
   "cell_type": "code",
   "execution_count": 3,
   "outputs": [
    {
     "data": {
      "text/plain": "torch.Size([64, 3, 32, 32])"
     },
     "execution_count": 3,
     "metadata": {},
     "output_type": "execute_result"
    }
   ],
   "source": [
    "a = torch.zeros(64, 3, 32, 32)\n",
    "a.shape"
   ],
   "metadata": {
    "collapsed": false
   }
  },
  {
   "cell_type": "code",
   "execution_count": 5,
   "metadata": {
    "collapsed": true
   },
   "outputs": [
    {
     "data": {
      "text/plain": "torch.Size([64, 3072])"
     },
     "execution_count": 5,
     "metadata": {},
     "output_type": "execute_result"
    }
   ],
   "source": [
    "a.view(a.shape[0],-1).shape"
   ]
  },
  {
   "cell_type": "code",
   "execution_count": 7,
   "outputs": [
    {
     "data": {
      "text/plain": "['BatchSampler',\n 'ChainDataset',\n 'ConcatDataset',\n 'DFIterDataPipe',\n 'DataChunk',\n 'DataLoader',\n 'DataLoader2',\n 'Dataset',\n 'DistributedSampler',\n 'IterDataPipe',\n 'IterableDataset',\n 'MapDataPipe',\n 'RandomSampler',\n 'Sampler',\n 'SequentialSampler',\n 'Subset',\n 'SubsetRandomSampler',\n 'TensorDataset',\n 'WeightedRandomSampler',\n '_DatasetKind',\n '__all__',\n '__builtins__',\n '__cached__',\n '__doc__',\n '__file__',\n '__loader__',\n '__name__',\n '__package__',\n '__path__',\n '__spec__',\n '_utils',\n 'argument_validation',\n 'backward_compatibility',\n 'communication',\n 'dataloader',\n 'dataloader_experimental',\n 'datapipes',\n 'dataset',\n 'default_collate',\n 'default_convert',\n 'distributed',\n 'functional_datapipe',\n 'get_worker_info',\n 'graph',\n 'graph_settings',\n 'guaranteed_datapipes_determinism',\n 'non_deterministic',\n 'random_split',\n 'runtime_validation',\n 'runtime_validation_disabled',\n 'sampler']"
     },
     "execution_count": 7,
     "metadata": {},
     "output_type": "execute_result"
    }
   ],
   "source": [
    "dir(torch.utils.data)"
   ],
   "metadata": {
    "collapsed": false
   }
  },
  {
   "cell_type": "code",
   "execution_count": 9,
   "outputs": [],
   "source": [
    "from torchvision import datasets, transforms\n",
    "data_path = '../data_unversioned/p1ch7/'\n",
    "cifar10 = datasets.CIFAR10(\n",
    "    data_path,train=True,download=False,\n",
    "    transform=transforms.Compose([\n",
    "        transforms.ToTensor(),\n",
    "        transforms.Normalize((0.4915, 0.4823, 0.4468),\n",
    "                             (0.2470, 0.2435, 0.2616))\n",
    "    ])\n",
    ")\n",
    "\n",
    "label_map = {0:0,2:1}#重新定义一个字典用于映射标签，标签类别映射0->0,2->1\n",
    "class_names = ['airplane','bird']\n",
    "cifar2 = [(img,label_map[label])\n",
    "          for img ,label in cifar10\n",
    "          if label in[0,2]]\n",
    "cifar2_val = [(img,label_map[label])\n",
    "              for img,label in cifar10 if label in[0,2]]\n",
    "type(label_map[2]),type(cifar2),type(cifar2[0])\n",
    "\n",
    "train_loader = torch.utils.data.DataLoader(cifar2,batch_size=64,shuffle=True)\n",
    "\n",
    "model = nn.Sequential(nn.Linear(3072,512),\n",
    "                      nn.Tanh(),\n",
    "                      nn.Linear(512,2),\n",
    "                      nn.LogSoftmax(dim=1))\n",
    "\n"
   ],
   "metadata": {
    "collapsed": false
   }
  },
  {
   "cell_type": "code",
   "execution_count": 11,
   "outputs": [
    {
     "data": {
      "text/plain": "torch.utils.data.dataloader.DataLoader"
     },
     "execution_count": 11,
     "metadata": {},
     "output_type": "execute_result"
    }
   ],
   "source": [
    "type(train_loader)"
   ],
   "metadata": {
    "collapsed": false
   }
  },
  {
   "cell_type": "code",
   "execution_count": 19,
   "outputs": [
    {
     "data": {
      "text/plain": "(torch.Size([]), torch.Tensor, tuple)"
     },
     "execution_count": 19,
     "metadata": {},
     "output_type": "execute_result"
    }
   ],
   "source": [
    "img = [(imgs,labels) for imgs,labels in train_loader][0][0]\n",
    "label = [(imgs,labels) for imgs,labels in train_loader][0][1]\n",
    "# labels = [(imgs,labels) for imgs,labels in train_loader][1]\n",
    "\n",
    "ouput= model(img.view(img.shape[0],-1))\n",
    "loss_fn = nn.NLLLoss()\n",
    "loss = loss_fn(ouput,label)\n",
    "loss.backward()\n",
    "loss.shape,type(label),"
   ],
   "metadata": {
    "collapsed": false
   }
  },
  {
   "cell_type": "code",
   "execution_count": null,
   "outputs": [],
   "source": [],
   "metadata": {
    "collapsed": false
   }
  }
 ],
 "metadata": {
  "kernelspec": {
   "display_name": "Python 3",
   "language": "python",
   "name": "python3"
  },
  "language_info": {
   "codemirror_mode": {
    "name": "ipython",
    "version": 2
   },
   "file_extension": ".py",
   "mimetype": "text/x-python",
   "name": "python",
   "nbconvert_exporter": "python",
   "pygments_lexer": "ipython2",
   "version": "2.7.6"
  }
 },
 "nbformat": 4,
 "nbformat_minor": 0
}
