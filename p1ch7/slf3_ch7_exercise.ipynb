{
 "cells": [
  {
   "cell_type": "code",
   "execution_count": 42,
   "outputs": [
    {
     "data": {
      "text/plain": "<torch._C.Generator at 0x7f21fa79aef0>"
     },
     "execution_count": 42,
     "metadata": {},
     "output_type": "execute_result"
    }
   ],
   "source": [
    "%matplotlib inline\n",
    "from matplotlib import pyplot as plt\n",
    "import numpy as np\n",
    "import torch\n",
    "import torch.nn\n",
    "import torch.optim as optim\n",
    "torch.set_printoptions(edgeitems=2)\n",
    "torch.manual_seed(123)"
   ],
   "metadata": {
    "collapsed": false
   }
  },
  {
   "cell_type": "code",
   "execution_count": 43,
   "metadata": {
    "collapsed": true
   },
   "outputs": [],
   "source": [
    "class_names = ['airplane','automobile','bird','cat','deer',\n",
    "               'dog','frog','horse','ship','truck']"
   ]
  },
  {
   "cell_type": "code",
   "execution_count": 44,
   "outputs": [],
   "source": [
    "from torchvision import datasets, transforms\n",
    "data_path = '../data_unversioned/p1ch7'\n",
    "cifar10 = datasets.CIFAR10(\n",
    "    data_path, train=True, download=False,\n",
    "    transform=transforms.Compose([\n",
    "        transforms.ToTensor(),\n",
    "        transforms.Normalize((0.4915, 0.4823, 0.4468),\n",
    "                             (0.2470, 0.2435, 0.2616)),\n",
    "        transforms.RandomCrop((32,32))\n",
    "    ]))\n",
    "cifar10_val = datasets.CIFAR10(\n",
    "    data_path, train=False, download=False,\n",
    "    transform=transforms.Compose([\n",
    "        transforms.ToTensor(),\n",
    "        transforms.Normalize((0.4915, 0.4823, 0.4468),\n",
    "                             (0.2470, 0.2435, 0.2616)),\n",
    "        transforms.RandomCrop((32,32))\n",
    "    ]))"
   ],
   "metadata": {
    "collapsed": false
   }
  },
  {
   "cell_type": "code",
   "execution_count": 45,
   "outputs": [
    {
     "data": {
      "text/plain": "(torch.Size([3, 32, 32]), torchvision.datasets.cifar.CIFAR10)"
     },
     "execution_count": 45,
     "metadata": {},
     "output_type": "execute_result"
    }
   ],
   "source": [
    "img,label = cifar10[0]\n",
    "img.shape,type(cifar10_val)"
   ],
   "metadata": {
    "collapsed": false
   }
  },
  {
   "cell_type": "code",
   "execution_count": 46,
   "outputs": [
    {
     "name": "stderr",
     "output_type": "stream",
     "text": [
      "Clipping input data to the valid range for imshow with RGB data ([0..1] for floats or [0..255] for integers).\n"
     ]
    },
    {
     "name": "stdout",
     "output_type": "stream",
     "text": [
      "torch.Size([3, 32, 32]) ship\n"
     ]
    },
    {
     "data": {
      "text/plain": "<Figure size 640x480 with 1 Axes>",
      "image/png": "[encoded data removed]"
     },
     "metadata": {},
     "output_type": "display_data"
    }
   ],
   "source": [
    "img,label = cifar10[2333]\n",
    "plt.imshow(img.permute(1,2,0))\n",
    "print(img.shape,class_names[label])\n",
    "plt.show()"
   ],
   "metadata": {
    "collapsed": false
   }
  },
  {
   "cell_type": "code",
   "execution_count": 47,
   "outputs": [],
   "source": [
    "label_map = {0:0,2:1}\n",
    "class_names =['airplane','bird']\n",
    "cifar2 =[(img,label_map[label]) for img,label in cifar10 if (label==0 or label==2)]\n",
    "cifar2_val = [(img, label_map[label])\n",
    "              for img, label in cifar10_val\n",
    "              if label in [0, 2]]"
   ],
   "metadata": {
    "collapsed": false
   }
  },
  {
   "cell_type": "code",
   "execution_count": 48,
   "outputs": [],
   "source": [
    "import torch.nn as nn\n",
    "\n",
    "n_out = 2\n",
    "\n",
    "model = nn.Sequential(\n",
    "    nn.Linear(1200,512),\n",
    "    nn.Tanh(),\n",
    "    nn.Linear(512,n_out)\n",
    ")"
   ],
   "metadata": {
    "collapsed": false
   }
  },
  {
   "cell_type": "code",
   "execution_count": 49,
   "outputs": [
    {
     "name": "stdout",
     "output_type": "stream",
     "text": [
      "Epoch = 0  Loss_train: 0.5334  loss_val: 0.4699 \n",
      "Epoch = 1  Loss_train: 0.3713  loss_val: 0.4685 \n",
      "Epoch = 2  Loss_train: 0.4177  loss_val: 0.4421 \n",
      "Epoch = 3  Loss_train: 0.4356  loss_val: 0.4525 \n",
      "Epoch = 4  Loss_train: 0.5235  loss_val: 0.4570 \n",
      "Epoch = 5  Loss_train: 0.4515  loss_val: 0.4317 \n",
      "Epoch = 6  Loss_train: 0.6934  loss_val: 0.4292 \n",
      "Epoch = 7  Loss_train: 0.4979  loss_val: 0.4456 \n",
      "Epoch = 8  Loss_train: 0.3510  loss_val: 0.6231 \n",
      "Epoch = 9  Loss_train: 0.3195  loss_val: 0.4486 \n",
      "Epoch = 10  Loss_train: 0.4842  loss_val: 0.4244 \n",
      "Epoch = 11  Loss_train: 0.2262  loss_val: 0.4391 \n",
      "Epoch = 12  Loss_train: 0.3234  loss_val: 0.4307 \n",
      "Epoch = 13  Loss_train: 0.2546  loss_val: 0.4186 \n",
      "Epoch = 14  Loss_train: 0.4166  loss_val: 0.4753 \n",
      "Epoch = 15  Loss_train: 0.5034  loss_val: 0.4627 \n",
      "Epoch = 16  Loss_train: 0.2595  loss_val: 0.4339 \n",
      "Epoch = 17  Loss_train: 0.3899  loss_val: 0.6034 \n",
      "Epoch = 18  Loss_train: 0.3703  loss_val: 0.5579 \n",
      "Epoch = 19  Loss_train: 0.3616  loss_val: 0.5709 \n",
      "Epoch = 20  Loss_train: 0.2854  loss_val: 0.5227 \n",
      "Epoch = 21  Loss_train: 0.3205  loss_val: 0.6343 \n",
      "Epoch = 22  Loss_train: 0.2683  loss_val: 0.4203 \n",
      "Epoch = 23  Loss_train: 0.2182  loss_val: 0.4345 \n",
      "Epoch = 24  Loss_train: 0.1912  loss_val: 0.4192 \n",
      "Epoch = 25  Loss_train: 0.0744  loss_val: 0.4848 \n",
      "Epoch = 26  Loss_train: 0.2972  loss_val: 0.4975 \n",
      "Epoch = 27  Loss_train: 0.1268  loss_val: 0.4336 \n",
      "Epoch = 28  Loss_train: 0.3147  loss_val: 0.5064 \n",
      "Epoch = 29  Loss_train: 0.2498  loss_val: 0.4691 \n",
      "Epoch = 30  Loss_train: 0.2992  loss_val: 0.4410 \n",
      "Epoch = 31  Loss_train: 0.1455  loss_val: 0.5093 \n",
      "Epoch = 32  Loss_train: 0.1776  loss_val: 0.4532 \n",
      "Epoch = 33  Loss_train: 0.1188  loss_val: 0.4520 \n",
      "Epoch = 34  Loss_train: 0.0684  loss_val: 0.4295 \n",
      "Epoch = 35  Loss_train: 0.1537  loss_val: 0.4604 \n",
      "Epoch = 36  Loss_train: 0.2424  loss_val: 0.8551 \n",
      "Epoch = 37  Loss_train: 0.1424  loss_val: 0.4608 \n",
      "Epoch = 38  Loss_train: 0.1131  loss_val: 0.4480 \n",
      "Epoch = 39  Loss_train: 0.3417  loss_val: 0.5917 \n",
      "Epoch = 40  Loss_train: 0.3217  loss_val: 0.8038 \n",
      "Epoch = 41  Loss_train: 0.2613  loss_val: 0.5089 \n",
      "Epoch = 42  Loss_train: 0.1292  loss_val: 0.5674 \n",
      "Epoch = 43  Loss_train: 0.2841  loss_val: 0.7241 \n",
      "Epoch = 44  Loss_train: 0.1235  loss_val: 0.5136 \n",
      "Epoch = 45  Loss_train: 0.1425  loss_val: 0.5506 \n",
      "Epoch = 46  Loss_train: 0.0729  loss_val: 0.4596 \n",
      "Epoch = 47  Loss_train: 0.0738  loss_val: 0.4706 \n",
      "Epoch = 48  Loss_train: 0.0447  loss_val: 0.4769 \n",
      "Epoch = 49  Loss_train: 0.0777  loss_val: 0.4760 \n",
      "Epoch = 50  Loss_train: 0.0445  loss_val: 0.4601 \n",
      "Epoch = 51  Loss_train: 0.0989  loss_val: 0.4750 \n",
      "Epoch = 52  Loss_train: 0.0751  loss_val: 0.5089 \n",
      "Epoch = 53  Loss_train: 0.0498  loss_val: 0.5413 \n",
      "Epoch = 54  Loss_train: 0.0868  loss_val: 0.6127 \n",
      "Epoch = 55  Loss_train: 0.0580  loss_val: 0.4867 \n",
      "Epoch = 56  Loss_train: 0.4119  loss_val: 2.2202 \n",
      "Epoch = 57  Loss_train: 0.0659  loss_val: 0.4864 \n",
      "Epoch = 58  Loss_train: 0.0366  loss_val: 0.4933 \n",
      "Epoch = 59  Loss_train: 0.0183  loss_val: 0.4925 \n",
      "Epoch = 60  Loss_train: 0.0958  loss_val: 0.5649 \n",
      "Epoch = 61  Loss_train: 0.0400  loss_val: 0.4984 \n",
      "Epoch = 62  Loss_train: 0.1357  loss_val: 0.4964 \n",
      "Epoch = 63  Loss_train: 0.0691  loss_val: 0.5260 \n",
      "Epoch = 64  Loss_train: 0.0159  loss_val: 0.5064 \n",
      "Epoch = 65  Loss_train: 0.1043  loss_val: 0.5277 \n",
      "Epoch = 66  Loss_train: 0.0157  loss_val: 0.5079 \n",
      "Epoch = 67  Loss_train: 0.0223  loss_val: 0.5236 \n",
      "Epoch = 68  Loss_train: 0.0222  loss_val: 0.5231 \n",
      "Epoch = 69  Loss_train: 0.0220  loss_val: 0.5192 \n",
      "Epoch = 70  Loss_train: 0.0188  loss_val: 0.5231 \n",
      "Epoch = 71  Loss_train: 0.0306  loss_val: 0.5274 \n",
      "Epoch = 72  Loss_train: 0.0128  loss_val: 0.5250 \n",
      "Epoch = 73  Loss_train: 0.0325  loss_val: 0.5302 \n",
      "Epoch = 74  Loss_train: 0.0202  loss_val: 0.5215 \n",
      "Epoch = 75  Loss_train: 0.0695  loss_val: 0.5520 \n",
      "Epoch = 76  Loss_train: 0.0077  loss_val: 0.5384 \n",
      "Epoch = 77  Loss_train: 0.0385  loss_val: 0.5687 \n",
      "Epoch = 78  Loss_train: 0.0810  loss_val: 0.5895 \n",
      "Epoch = 79  Loss_train: 0.0298  loss_val: 0.5589 \n",
      "Epoch = 80  Loss_train: 0.0251  loss_val: 0.5449 \n",
      "Epoch = 81  Loss_train: 0.0110  loss_val: 0.5399 \n",
      "Epoch = 82  Loss_train: 0.0434  loss_val: 0.5448 \n",
      "Epoch = 83  Loss_train: 0.0282  loss_val: 0.5943 \n",
      "Epoch = 84  Loss_train: 0.0335  loss_val: 0.6054 \n",
      "Epoch = 85  Loss_train: 0.0079  loss_val: 0.5561 \n",
      "Epoch = 86  Loss_train: 0.0243  loss_val: 0.5531 \n",
      "Epoch = 87  Loss_train: 0.0565  loss_val: 0.5841 \n",
      "Epoch = 88  Loss_train: 0.0603  loss_val: 0.7167 \n",
      "Epoch = 89  Loss_train: 0.0177  loss_val: 0.5520 \n",
      "Epoch = 90  Loss_train: 0.0395  loss_val: 0.5574 \n",
      "Epoch = 91  Loss_train: 0.0400  loss_val: 0.5667 \n",
      "Epoch = 92  Loss_train: 0.0259  loss_val: 0.5811 \n",
      "Epoch = 93  Loss_train: 0.0328  loss_val: 0.5988 \n",
      "Epoch = 94  Loss_train: 0.0174  loss_val: 0.5749 \n",
      "Epoch = 95  Loss_train: 0.0166  loss_val: 0.5869 \n",
      "Epoch = 96  Loss_train: 0.0306  loss_val: 0.5820 \n",
      "Epoch = 97  Loss_train: 0.0093  loss_val: 0.5844 \n",
      "Epoch = 98  Loss_train: 0.0208  loss_val: 0.5843 \n",
      "Epoch = 99  Loss_train: 0.0090  loss_val: 0.5867 \n"
     ]
    }
   ],
   "source": [
    "import torch\n",
    "import torch.nn as nn\n",
    "import torch.optim as optim\n",
    "\n",
    "train_loader = torch.utils.data.DataLoader(cifar2,batch_size=64,\n",
    "                                           shuffle= True)\n",
    "val_loader = torch.utils.data.DataLoader(cifar2_val,batch_size=2000,\n",
    "                                           shuffle= True)\n",
    "\n",
    "model = nn.Sequential(\n",
    "    nn.Linear(3072,512),\n",
    "    nn.Tanh(),\n",
    "    nn.Linear(512,2),\n",
    "    nn.LogSoftmax(dim=1)\n",
    ")\n",
    "\n",
    "learning_rate = 1e-2\n",
    "\n",
    "optimizer = optim.SGD(model.parameters(),lr=learning_rate)\n",
    "\n",
    "loss_fn = nn.NLLLoss()\n",
    "\n",
    "n_epochs = 100\n",
    "\n",
    "for epoch in range(n_epochs):\n",
    "    for imgs,labels in train_loader:\n",
    "        outputs = model(imgs.view(imgs.shape[0],-1))\n",
    "        loss_train = loss_fn(outputs,labels)\n",
    "        # print(outputs.shape,labels.shape)\n",
    "\n",
    "        optimizer.zero_grad()\n",
    "        loss_train.backward()\n",
    "        optimizer.step()\n",
    "\n",
    "    for imgs_val ,labels_val in val_loader:\n",
    "        outputs = model(imgs_val.view(imgs_val.shape[0],-1))\n",
    "        loss_val = loss_fn(outputs,labels_val)\n",
    "\n",
    "    print(f\"Epoch = {epoch}  Loss_train: {loss_train:.4f}  loss_val: {loss_val.item():.4f} \")"
   ],
   "metadata": {
    "collapsed": false
   }
  },
  {
   "cell_type": "code",
   "execution_count": 55,
   "outputs": [
    {
     "data": {
      "text/plain": "(torch.Size([4]),\n tensor([[0],\n         [0],\n         [1],\n         [1]]))"
     },
     "execution_count": 55,
     "metadata": {},
     "output_type": "execute_result"
    }
   ],
   "source": [
    "out = torch.tensor([\n",
    "    [0.6,0.4],\n",
    "    [0.9,0.1],\n",
    "    [0.3,0.7],\n",
    "    [0.2,0.8],\n",
    "])\n",
    "\n",
    "y = torch.tensor([0,0,1,1])\n",
    "y.shape,y.unsqueeze(-1)"
   ],
   "metadata": {
    "collapsed": false
   }
  },
  {
   "cell_type": "code",
   "execution_count": 56,
   "outputs": [
    {
     "data": {
      "text/plain": "tensor(0.1500)"
     },
     "execution_count": 56,
     "metadata": {},
     "output_type": "execute_result"
    }
   ],
   "source": [
    "def mse(out,y):\n",
    "    #unsqueeze\n",
    "    y = y.unsqueeze(-1)\n",
    "    #one_hot\n",
    "    truth = torch.zeros((out.shape[0],2))\n",
    "    truth.scatter_(dim=1,index=y,value = 1.0)\n",
    "    return ((out -truth) **2).sum(dim =1).mean()\n",
    "\n",
    "mse(out,y)"
   ],
   "metadata": {
    "collapsed": false
   }
  },
  {
   "cell_type": "code",
   "execution_count": 58,
   "outputs": [
    {
     "name": "stdout",
     "output_type": "stream",
     "text": [
      "Epoch = 0  Loss_train: 0.3264  loss_val: 0.3545 \n",
      "Epoch = 1  Loss_train: 0.3482  loss_val: 0.3018 \n",
      "Epoch = 2  Loss_train: 0.4361  loss_val: 0.2966 \n",
      "Epoch = 3  Loss_train: 0.3426  loss_val: 0.2899 \n",
      "Epoch = 4  Loss_train: 0.2423  loss_val: 0.3869 \n",
      "Epoch = 5  Loss_train: 0.1946  loss_val: 0.2740 \n",
      "Epoch = 6  Loss_train: 0.4034  loss_val: 0.2738 \n",
      "Epoch = 7  Loss_train: 0.3232  loss_val: 0.2703 \n",
      "Epoch = 8  Loss_train: 0.1573  loss_val: 0.2706 \n",
      "Epoch = 9  Loss_train: 0.1966  loss_val: 0.2786 \n",
      "Epoch = 10  Loss_train: 0.1608  loss_val: 0.2685 \n",
      "Epoch = 11  Loss_train: 0.2610  loss_val: 0.2734 \n",
      "Epoch = 12  Loss_train: 0.2755  loss_val: 0.2723 \n",
      "Epoch = 13  Loss_train: 0.4059  loss_val: 0.2858 \n",
      "Epoch = 14  Loss_train: 0.4030  loss_val: 0.2991 \n",
      "Epoch = 15  Loss_train: 0.0822  loss_val: 0.2588 \n",
      "Epoch = 16  Loss_train: 0.0312  loss_val: 0.2609 \n",
      "Epoch = 17  Loss_train: 0.2736  loss_val: 0.2590 \n",
      "Epoch = 18  Loss_train: 0.1712  loss_val: 0.2662 \n",
      "Epoch = 19  Loss_train: 0.3023  loss_val: 0.2649 \n",
      "Epoch = 20  Loss_train: 0.2331  loss_val: 0.3340 \n",
      "Epoch = 21  Loss_train: 0.1244  loss_val: 0.2669 \n",
      "Epoch = 22  Loss_train: 0.1234  loss_val: 0.2582 \n",
      "Epoch = 23  Loss_train: 0.1066  loss_val: 0.2795 \n",
      "Epoch = 24  Loss_train: 0.1123  loss_val: 0.2534 \n",
      "Epoch = 25  Loss_train: 0.2213  loss_val: 0.2519 \n",
      "Epoch = 26  Loss_train: 0.4647  loss_val: 0.2754 \n",
      "Epoch = 27  Loss_train: 0.1088  loss_val: 0.2518 \n",
      "Epoch = 28  Loss_train: 0.1416  loss_val: 0.2573 \n",
      "Epoch = 29  Loss_train: 0.2041  loss_val: 0.2592 \n",
      "Epoch = 30  Loss_train: 0.2173  loss_val: 0.3205 \n",
      "Epoch = 31  Loss_train: 0.1616  loss_val: 0.2646 \n",
      "Epoch = 32  Loss_train: 0.3082  loss_val: 0.4440 \n",
      "Epoch = 33  Loss_train: 0.0542  loss_val: 0.2654 \n",
      "Epoch = 34  Loss_train: 0.1362  loss_val: 0.2980 \n",
      "Epoch = 35  Loss_train: 0.0970  loss_val: 0.2596 \n",
      "Epoch = 36  Loss_train: 0.0572  loss_val: 0.2685 \n",
      "Epoch = 37  Loss_train: 0.0572  loss_val: 0.2793 \n",
      "Epoch = 38  Loss_train: 0.1380  loss_val: 0.2599 \n",
      "Epoch = 39  Loss_train: 0.1428  loss_val: 0.2675 \n",
      "Epoch = 40  Loss_train: 0.2410  loss_val: 0.2710 \n",
      "Epoch = 41  Loss_train: 0.0945  loss_val: 0.2998 \n",
      "Epoch = 42  Loss_train: 0.0338  loss_val: 0.2698 \n",
      "Epoch = 43  Loss_train: 0.0562  loss_val: 0.3544 \n",
      "Epoch = 44  Loss_train: 0.2321  loss_val: 0.2806 \n",
      "Epoch = 45  Loss_train: 0.0222  loss_val: 0.2603 \n",
      "Epoch = 46  Loss_train: 0.1177  loss_val: 0.2661 \n",
      "Epoch = 47  Loss_train: 0.0458  loss_val: 0.2626 \n",
      "Epoch = 48  Loss_train: 0.1281  loss_val: 0.3690 \n",
      "Epoch = 49  Loss_train: 0.0256  loss_val: 0.2656 \n",
      "Epoch = 50  Loss_train: 0.0943  loss_val: 0.2810 \n",
      "Epoch = 51  Loss_train: 0.0204  loss_val: 0.2743 \n",
      "Epoch = 52  Loss_train: 0.0169  loss_val: 0.2627 \n",
      "Epoch = 53  Loss_train: 0.0602  loss_val: 0.2809 \n",
      "Epoch = 54  Loss_train: 0.0338  loss_val: 0.2598 \n",
      "Epoch = 55  Loss_train: 0.1899  loss_val: 0.2801 \n",
      "Epoch = 56  Loss_train: 0.0292  loss_val: 0.2646 \n",
      "Epoch = 57  Loss_train: 0.0404  loss_val: 0.2751 \n",
      "Epoch = 58  Loss_train: 0.0573  loss_val: 0.2634 \n",
      "Epoch = 59  Loss_train: 0.0163  loss_val: 0.2646 \n",
      "Epoch = 60  Loss_train: 0.1258  loss_val: 0.2904 \n",
      "Epoch = 61  Loss_train: 0.1672  loss_val: 0.2900 \n",
      "Epoch = 62  Loss_train: 0.0089  loss_val: 0.2687 \n",
      "Epoch = 63  Loss_train: 0.0321  loss_val: 0.2768 \n",
      "Epoch = 64  Loss_train: 0.1084  loss_val: 0.3600 \n",
      "Epoch = 65  Loss_train: 0.0129  loss_val: 0.2725 \n",
      "Epoch = 66  Loss_train: 0.0394  loss_val: 0.3187 \n",
      "Epoch = 67  Loss_train: 0.1137  loss_val: 0.2710 \n",
      "Epoch = 68  Loss_train: 0.0372  loss_val: 0.2783 \n",
      "Epoch = 69  Loss_train: 0.0731  loss_val: 0.2725 \n",
      "Epoch = 70  Loss_train: 0.0171  loss_val: 0.2746 \n",
      "Epoch = 71  Loss_train: 0.0328  loss_val: 0.2781 \n",
      "Epoch = 72  Loss_train: 0.0062  loss_val: 0.2727 \n",
      "Epoch = 73  Loss_train: 0.2473  loss_val: 0.2783 \n",
      "Epoch = 74  Loss_train: 0.0163  loss_val: 0.2760 \n",
      "Epoch = 75  Loss_train: 0.0112  loss_val: 0.2706 \n",
      "Epoch = 76  Loss_train: 0.0082  loss_val: 0.2779 \n",
      "Epoch = 77  Loss_train: 0.0242  loss_val: 0.2840 \n",
      "Epoch = 78  Loss_train: 0.0136  loss_val: 0.2710 \n",
      "Epoch = 79  Loss_train: 0.0439  loss_val: 0.2789 \n",
      "Epoch = 80  Loss_train: 0.0097  loss_val: 0.2732 \n",
      "Epoch = 81  Loss_train: 0.1318  loss_val: 0.2811 \n",
      "Epoch = 82  Loss_train: 0.0128  loss_val: 0.2710 \n",
      "Epoch = 83  Loss_train: 0.0210  loss_val: 0.2753 \n",
      "Epoch = 84  Loss_train: 0.0094  loss_val: 0.2758 \n",
      "Epoch = 85  Loss_train: 0.0176  loss_val: 0.2756 \n",
      "Epoch = 86  Loss_train: 0.0069  loss_val: 0.2787 \n",
      "Epoch = 87  Loss_train: 0.0117  loss_val: 0.2765 \n",
      "Epoch = 88  Loss_train: 0.0101  loss_val: 0.2771 \n",
      "Epoch = 89  Loss_train: 0.0035  loss_val: 0.2763 \n",
      "Epoch = 90  Loss_train: 0.0222  loss_val: 0.2760 \n",
      "Epoch = 91  Loss_train: 0.1325  loss_val: 0.2752 \n",
      "Epoch = 92  Loss_train: 0.0214  loss_val: 0.2901 \n",
      "Epoch = 93  Loss_train: 0.0137  loss_val: 0.2813 \n",
      "Epoch = 94  Loss_train: 0.1391  loss_val: 0.2898 \n",
      "Epoch = 95  Loss_train: 0.0146  loss_val: 0.2900 \n",
      "Epoch = 96  Loss_train: 0.0974  loss_val: 0.3863 \n",
      "Epoch = 97  Loss_train: 0.0090  loss_val: 0.2869 \n",
      "Epoch = 98  Loss_train: 0.0116  loss_val: 0.2797 \n",
      "Epoch = 99  Loss_train: 0.0797  loss_val: 0.3256 \n"
     ]
    }
   ],
   "source": [
    "import torch\n",
    "import torch.nn as nn\n",
    "import torch.optim as optim\n",
    "\n",
    "train_loader = torch.utils.data.DataLoader(cifar2,batch_size=64,\n",
    "                                           shuffle= True)\n",
    "val_loader = torch.utils.data.DataLoader(cifar2_val,batch_size=2000,\n",
    "                                           shuffle= True)\n",
    "\n",
    "model = nn.Sequential(\n",
    "    nn.Linear(3072,512),\n",
    "    nn.Tanh(),\n",
    "    nn.Linear(512,2),\n",
    "    nn.Softmax(dim=1)\n",
    ")\n",
    "\n",
    "learning_rate = 1e-2\n",
    "\n",
    "optimizer = optim.SGD(model.parameters(),lr=learning_rate)\n",
    "\n",
    "loss_fn = mse\n",
    "\n",
    "n_epochs = 100\n",
    "\n",
    "for epoch in range(n_epochs):\n",
    "    for imgs,labels in train_loader:\n",
    "        outputs = model(imgs.view(imgs.shape[0],-1))\n",
    "        loss_train = loss_fn(outputs,labels)\n",
    "        # print(outputs.shape,labels.shape)\n",
    "\n",
    "        optimizer.zero_grad()\n",
    "        loss_train.backward()\n",
    "        optimizer.step()\n",
    "\n",
    "    for imgs_val ,labels_val in val_loader:\n",
    "        outputs = model(imgs_val.view(imgs_val.shape[0],-1))\n",
    "        loss_val = loss_fn(outputs,labels_val)\n",
    "\n",
    "    print(f\"Epoch = {epoch}  Loss_train: {loss_train:.4f}  loss_val: {loss_val.item():.4f} \")"
   ],
   "metadata": {
    "collapsed": false
   }
  },
  {
   "cell_type": "code",
   "execution_count": null,
   "outputs": [],
   "source": [],
   "metadata": {
    "collapsed": false
   }
  }
 ],
 "metadata": {
  "kernelspec": {
   "display_name": "Python 3",
   "language": "python",
   "name": "python3"
  },
  "language_info": {
   "codemirror_mode": {
    "name": "ipython",
    "version": 2
   },
   "file_extension": ".py",
   "mimetype": "text/x-python",
   "name": "python",
   "nbconvert_exporter": "python",
   "pygments_lexer": "ipython2",
   "version": "2.7.6"
  }
 },
 "nbformat": 4,
 "nbformat_minor": 0
}
