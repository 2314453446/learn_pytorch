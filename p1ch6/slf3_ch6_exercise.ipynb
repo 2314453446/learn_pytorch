{
 "cells": [
  {
   "cell_type": "code",
   "execution_count": 1,
   "outputs": [],
   "source": [
    "%matplotlib inline\n",
    "import numpy as np\n",
    "import torch\n",
    "import torch.optim as optim\n",
    "import torch.nn as nn"
   ],
   "metadata": {
    "collapsed": false
   }
  },
  {
   "cell_type": "code",
   "execution_count": 13,
   "outputs": [
    {
     "data": {
      "text/plain": "array([[ 7.  ,  0.27,  0.36, ...,  0.45,  8.8 ,  6.  ],\n       [ 6.3 ,  0.3 ,  0.34, ...,  0.49,  9.5 ,  6.  ],\n       [ 8.1 ,  0.28,  0.4 , ...,  0.44, 10.1 ,  6.  ],\n       ...,\n       [ 6.5 ,  0.24,  0.19, ...,  0.46,  9.4 ,  6.  ],\n       [ 5.5 ,  0.29,  0.3 , ...,  0.38, 12.8 ,  7.  ],\n       [ 6.  ,  0.21,  0.38, ...,  0.32, 11.8 ,  6.  ]], dtype=float32)"
     },
     "execution_count": 13,
     "metadata": {},
     "output_type": "execute_result"
    }
   ],
   "source": [
    "import csv\n",
    "wine_path = '../data/p1ch4/tabular-wine/winequality-white.csv'\n",
    "wineq_numpy = np.loadtxt(wine_path,dtype=np.float32,delimiter=';',\n",
    "                         skiprows=1 )\n",
    "wineq_numpy"
   ],
   "metadata": {
    "collapsed": false
   }
  },
  {
   "cell_type": "code",
   "execution_count": 3,
   "outputs": [
    {
     "data": {
      "text/plain": "torch.Size([4898, 12])"
     },
     "execution_count": 3,
     "metadata": {},
     "output_type": "execute_result"
    }
   ],
   "source": [
    "wineq = torch.from_numpy(wineq_numpy)\n",
    "wineq.shape"
   ],
   "metadata": {
    "collapsed": false
   }
  },
  {
   "cell_type": "code",
   "execution_count": 7,
   "outputs": [
    {
     "data": {
      "text/plain": "(tensor([[ 7.0000,  0.2700,  0.3600,  ...,  3.0000,  0.4500,  8.8000],\n         [ 6.3000,  0.3000,  0.3400,  ...,  3.3000,  0.4900,  9.5000],\n         [ 8.1000,  0.2800,  0.4000,  ...,  3.2600,  0.4400, 10.1000],\n         ...,\n         [ 6.5000,  0.2400,  0.1900,  ...,  2.9900,  0.4600,  9.4000],\n         [ 5.5000,  0.2900,  0.3000,  ...,  3.3400,  0.3800, 12.8000],\n         [ 6.0000,  0.2100,  0.3800,  ...,  3.2600,  0.3200, 11.8000]]),\n torch.Size([4898, 11]))"
     },
     "execution_count": 7,
     "metadata": {},
     "output_type": "execute_result"
    }
   ],
   "source": [
    "data = wineq[:,:-1]\n",
    "data, data.shape"
   ],
   "metadata": {
    "collapsed": false
   }
  },
  {
   "cell_type": "code",
   "execution_count": 6,
   "outputs": [
    {
     "data": {
      "text/plain": "(tensor([[6.],\n         [6.],\n         [6.],\n         ...,\n         [6.],\n         [7.],\n         [6.]]),\n torch.Size([4898, 1]))"
     },
     "execution_count": 6,
     "metadata": {},
     "output_type": "execute_result"
    }
   ],
   "source": [
    "target = wineq[:,-1]\n",
    "target = target.unsqueeze(-1)\n",
    "target,target.shape"
   ],
   "metadata": {
    "collapsed": false
   }
  },
  {
   "cell_type": "code",
   "execution_count": 15,
   "outputs": [
    {
     "data": {
      "text/plain": "(torch.Size([3919]), torch.Size([979]))"
     },
     "execution_count": 15,
     "metadata": {},
     "output_type": "execute_result"
    }
   ],
   "source": [
    "n_samples = data.shape[0]\n",
    "n_val = int(0.2*n_samples)\n",
    "shuffled_indices = torch.randperm(n_samples)\n",
    "\n",
    "train_indices = shuffled_indices[0:-n_val]\n",
    "val_indices = shuffled_indices[-n_val:]\n",
    "\n",
    "train_indices.shape,val_indices.shape"
   ],
   "metadata": {
    "collapsed": false
   }
  },
  {
   "cell_type": "code",
   "execution_count": 16,
   "outputs": [],
   "source": [
    "data_train = data[train_indices]\n",
    "target_train = target[train_indices]\n",
    "\n",
    "data_val = data[val_indices]\n",
    "target_val = target[val_indices]"
   ],
   "metadata": {
    "collapsed": false
   }
  },
  {
   "cell_type": "code",
   "execution_count": 17,
   "outputs": [
    {
     "data": {
      "text/plain": "Sequential(\n  (0): Linear(in_features=11, out_features=24, bias=True)\n  (1): Tanh()\n  (2): Linear(in_features=24, out_features=1, bias=True)\n)"
     },
     "execution_count": 17,
     "metadata": {},
     "output_type": "execute_result"
    }
   ],
   "source": [
    "# define model\n",
    "\n",
    "input_shape = data.shape[1]\n",
    "n_neurons = 24\n",
    "\n",
    "seq_model = nn.Sequential(nn.Linear(input_shape,n_neurons),\n",
    "                          nn.Tanh(),\n",
    "                          nn.Linear(n_neurons,1),\n",
    "                          )\n",
    "\n",
    "seq_model"
   ],
   "metadata": {
    "collapsed": false
   }
  },
  {
   "cell_type": "code",
   "execution_count": 18,
   "outputs": [],
   "source": [
    "# define loss\n",
    "# 可以直接调用torch 中的包 如MSE"
   ],
   "metadata": {
    "collapsed": false
   }
  },
  {
   "cell_type": "code",
   "execution_count": 19,
   "outputs": [],
   "source": [
    "# define optimizer\n",
    "optimizer = optim.Adam(seq_model.parameters(),lr=1e-3)"
   ],
   "metadata": {
    "collapsed": false
   }
  },
  {
   "cell_type": "code",
   "execution_count": 20,
   "outputs": [],
   "source": [
    "# training function\n",
    "def training_loop(n_epochs, model, loss_fn, optimizer, data_train, target_train, data_val, target_val):\n",
    "    for epoch in range(1,n_epochs+1):\n",
    "        data_p_train = model(data_train)\n",
    "        loss_train = loss_fn(data_p_train,target_train)\n",
    "\n",
    "        data_p_val = model(data_val)\n",
    "        loss_val = loss_fn(data_p_val,target_val)\n",
    "\n",
    "        optimizer.zero_grad()\n",
    "        loss_train.backward()\n",
    "        optimizer.step()\n",
    "\n",
    "        if epoch == 1 or epoch %100 ==0:\n",
    "            print(f\"epoch= {epoch} training loss = {loss_train.item():.4f},\"\n",
    "                  f\"validation loss= {loss_val.item():.4f}\")\n"
   ],
   "metadata": {
    "collapsed": false
   }
  },
  {
   "cell_type": "code",
   "execution_count": 21,
   "outputs": [
    {
     "name": "stdout",
     "output_type": "stream",
     "text": [
      "epoch= 1 training loss = 48.9995,validation loss= 48.3369\n",
      "epoch= 100 training loss = 13.4213,validation loss= 13.1191\n",
      "epoch= 200 training loss = 3.4313,validation loss= 3.3064\n",
      "epoch= 300 training loss = 1.3705,validation loss= 1.3204\n",
      "epoch= 400 training loss = 0.8698,validation loss= 0.8606\n",
      "epoch= 500 training loss = 0.7798,validation loss= 0.7885\n",
      "epoch= 600 training loss = 0.7451,validation loss= 0.7669\n",
      "epoch= 700 training loss = 0.6866,validation loss= 0.6931\n",
      "epoch= 800 training loss = 0.6592,validation loss= 0.6734\n",
      "epoch= 900 training loss = 0.6444,validation loss= 0.6609\n",
      "epoch= 1000 training loss = 0.6193,validation loss= 0.6192\n",
      "epoch= 1100 training loss = 0.5880,validation loss= 0.5803\n",
      "epoch= 1200 training loss = 0.5713,validation loss= 0.5658\n",
      "epoch= 1300 training loss = 0.5595,validation loss= 0.5521\n",
      "epoch= 1400 training loss = 0.5513,validation loss= 0.5430\n",
      "epoch= 1500 training loss = 0.5457,validation loss= 0.5370\n",
      "epoch= 1600 training loss = 0.5419,validation loss= 0.5315\n",
      "epoch= 1700 training loss = 0.5392,validation loss= 0.5275\n",
      "epoch= 1800 training loss = 0.5373,validation loss= 0.5241\n",
      "epoch= 1900 training loss = 0.5357,validation loss= 0.5216\n",
      "epoch= 2000 training loss = 0.5344,validation loss= 0.5194\n",
      "epoch= 2100 training loss = 0.5329,validation loss= 0.5191\n",
      "epoch= 2200 training loss = 0.5319,validation loss= 0.5170\n",
      "epoch= 2300 training loss = 0.5309,validation loss= 0.5149\n",
      "epoch= 2400 training loss = 0.5299,validation loss= 0.5129\n",
      "epoch= 2500 training loss = 0.5286,validation loss= 0.5104\n",
      "epoch= 2600 training loss = 0.5277,validation loss= 0.5101\n",
      "epoch= 2700 training loss = 0.5270,validation loss= 0.5101\n",
      "epoch= 2800 training loss = 0.5263,validation loss= 0.5094\n",
      "epoch= 2900 training loss = 0.5257,validation loss= 0.5087\n",
      "epoch= 3000 training loss = 0.5249,validation loss= 0.5089\n"
     ]
    }
   ],
   "source": [
    "#train\n",
    "training_loop(n_epochs=3000,\n",
    "              model=seq_model,\n",
    "              loss_fn=nn.MSELoss(),\n",
    "              optimizer=optimizer,\n",
    "              data_train=data_train,\n",
    "              target_train=target_train,\n",
    "              data_val=data_val,\n",
    "              target_val=target_val)"
   ],
   "metadata": {
    "collapsed": false
   }
  },
  {
   "cell_type": "code",
   "execution_count": null,
   "outputs": [],
   "source": [],
   "metadata": {
    "collapsed": false
   }
  }
 ],
 "metadata": {
  "kernelspec": {
   "display_name": "Python 3",
   "language": "python",
   "name": "python3"
  },
  "language_info": {
   "codemirror_mode": {
    "name": "ipython",
    "version": 2
   },
   "file_extension": ".py",
   "mimetype": "text/x-python",
   "name": "python",
   "nbconvert_exporter": "python",
   "pygments_lexer": "ipython2",
   "version": "2.7.6"
  }
 },
 "nbformat": 4,
 "nbformat_minor": 0
}
