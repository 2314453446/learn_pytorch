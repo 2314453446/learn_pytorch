{
 "cells": [
  {
   "cell_type": "code",
   "execution_count": 1,
   "outputs": [],
   "source": [
    "%matplotlib inline\n",
    "import numpy as np\n",
    "import torch\n",
    "torch.set_printoptions(edgeitems=2,linewidth=75)"
   ],
   "metadata": {
    "collapsed": false
   }
  },
  {
   "cell_type": "code",
   "execution_count": 2,
   "outputs": [],
   "source": [
    "t_c = torch.tensor([0.5, 14.0, 15.0, 28.0, 11.0,\n",
    "                    8.0, 3.0, -4.0, 6.0, 13.0, 21.0])\n",
    "t_u = torch.tensor([35.7, 55.9, 58.2, 81.9, 56.3, 48.9,\n",
    "                    33.9, 21.8, 48.4, 60.4, 68.4])\n",
    "t_un = 0.1 * t_u"
   ],
   "metadata": {
    "collapsed": false
   }
  },
  {
   "cell_type": "code",
   "execution_count": 3,
   "outputs": [],
   "source": [
    "def model(t_u,w2,w1,b):\n",
    "    return w2*t_u**2 + w1*t_u +b\n",
    "\n",
    "def loss_fn(t_p,t_c):\n",
    "    squraed_diff = (t_p-t_c)**2\n",
    "    return squraed_diff.mean()"
   ],
   "metadata": {
    "collapsed": false
   }
  },
  {
   "cell_type": "code",
   "execution_count": 4,
   "outputs": [],
   "source": [
    "import torch.optim as optim"
   ],
   "metadata": {
    "collapsed": false
   }
  },
  {
   "cell_type": "code",
   "execution_count": 5,
   "outputs": [],
   "source": [
    "params = torch.tensor([1.0,1.0,0.0],requires_grad=True)\n"
   ],
   "metadata": {
    "collapsed": false
   }
  },
  {
   "cell_type": "code",
   "execution_count": 6,
   "outputs": [
    {
     "data": {
      "text/plain": "(tensor([ 4,  7,  8, 10,  0,  3,  1,  5,  6]), tensor([9, 2]))"
     },
     "execution_count": 6,
     "metadata": {},
     "output_type": "execute_result"
    }
   ],
   "source": [
    "n_samples =t_u.shape[0]\n",
    "n_val = int(0.2*n_samples)\n",
    "shuffled_index = torch.randperm(n_samples)\n",
    "\n",
    "train_indices = shuffled_index[:-n_val]\n",
    "val_indices = shuffled_index[-n_val:]\n",
    "\n",
    "train_indices,val_indices"
   ],
   "metadata": {
    "collapsed": false
   }
  },
  {
   "cell_type": "code",
   "execution_count": 7,
   "outputs": [],
   "source": [
    "train_t_u = t_u[train_indices]\n",
    "train_t_c = t_c[train_indices]\n",
    "\n",
    "val_t_u = t_u[val_indices]\n",
    "val_t_c = t_c[val_indices]\n",
    "\n",
    "train_t_un = 0.1* train_t_u\n",
    "val_t_un = 0.1 * val_t_u\n"
   ],
   "metadata": {
    "collapsed": false
   }
  },
  {
   "cell_type": "code",
   "execution_count": 22,
   "outputs": [],
   "source": [
    "def training_loop(n_epochs,optimizer,params,train_t_u,val_t_u,train_t_c,\n",
    "                  val_t_c):\n",
    "    for epoch in range(1,n_epochs+1):\n",
    "        train_t_p = model(train_t_u,*params)\n",
    "        train_loss = loss_fn(train_t_p,train_t_c)\n",
    "\n",
    "        val_t_p = model(val_t_u,*params)\n",
    "        val_loss = loss_fn(val_t_p,val_t_c)\n",
    "\n",
    "        optimizer.zero_grad()\n",
    "        train_loss.backward()\n",
    "        optimizer.step()\n",
    "\n",
    "        if epoch <= 3 or epoch % 500 ==0:\n",
    "            print(f\"epoch{epoch}, Training loss {train_loss.item():.4f},\"\n",
    "                  f\"Validation loss {val_loss.item():.4f}\")\n",
    "\n",
    "    return params\n"
   ],
   "metadata": {
    "collapsed": false
   }
  },
  {
   "cell_type": "code",
   "execution_count": 30,
   "outputs": [],
   "source": [
    "params =torch.tensor([1.0,1.0,0.0],requires_grad=True)\n",
    "learning_rate = 1e-2\n",
    "optimizer = optim.Adam([params],lr=learning_rate)"
   ],
   "metadata": {
    "collapsed": false
   }
  },
  {
   "cell_type": "code",
   "execution_count": 32,
   "outputs": [
    {
     "name": "stdout",
     "output_type": "stream",
     "text": [
      "epoch1, Training loss 2.1422,Validation loss 2.8605\n",
      "epoch2, Training loss 2.1421,Validation loss 2.8604\n",
      "epoch3, Training loss 2.1419,Validation loss 2.8602\n",
      "epoch500, Training loss 2.0675,Validation loss 2.8059\n",
      "epoch1000, Training loss 2.0135,Validation loss 2.7640\n",
      "epoch1500, Training loss 1.9805,Validation loss 2.7353\n",
      "epoch2000, Training loss 1.9640,Validation loss 2.7182\n",
      "epoch2500, Training loss 1.9577,Validation loss 2.7093\n",
      "epoch3000, Training loss 1.9559,Validation loss 2.7052\n",
      "epoch3500, Training loss 1.9556,Validation loss 2.7035\n",
      "epoch4000, Training loss 1.9556,Validation loss 2.7030\n",
      "epoch4500, Training loss 1.9556,Validation loss 2.7029\n",
      "epoch5000, Training loss 1.9556,Validation loss 2.7028\n",
      "epoch5500, Training loss 1.9556,Validation loss 2.7028\n",
      "epoch6000, Training loss 1.9556,Validation loss 2.7030\n",
      "epoch6500, Training loss 1.9556,Validation loss 2.7029\n",
      "epoch7000, Training loss 1.9556,Validation loss 2.7028\n",
      "epoch7500, Training loss 1.9556,Validation loss 2.7029\n",
      "epoch8000, Training loss 1.9556,Validation loss 2.7030\n",
      "epoch8500, Training loss 1.9556,Validation loss 2.7028\n",
      "epoch9000, Training loss 1.9556,Validation loss 2.7028\n",
      "epoch9500, Training loss 1.9556,Validation loss 2.7028\n",
      "epoch10000, Training loss 1.9556,Validation loss 2.7028\n"
     ]
    },
    {
     "data": {
      "text/plain": "tensor([  0.2887,   2.4304, -10.5816], requires_grad=True)"
     },
     "execution_count": 32,
     "metadata": {},
     "output_type": "execute_result"
    }
   ],
   "source": [
    "training_loop(n_epochs=10000,\n",
    "              optimizer=optimizer,\n",
    "              params=params,\n",
    "              train_t_c=train_t_c,\n",
    "              train_t_u=train_t_un,\n",
    "              val_t_c=val_t_c,\n",
    "              val_t_u=val_t_un)"
   ],
   "metadata": {
    "collapsed": false
   }
  },
  {
   "cell_type": "code",
   "execution_count": 33,
   "outputs": [
    {
     "data": {
      "text/plain": "tensor([  0.2887,   2.4304, -10.5816], requires_grad=True)"
     },
     "execution_count": 33,
     "metadata": {},
     "output_type": "execute_result"
    }
   ],
   "source": [
    "params"
   ],
   "metadata": {
    "collapsed": false
   }
  },
  {
   "cell_type": "code",
   "execution_count": null,
   "outputs": [],
   "source": [],
   "metadata": {
    "collapsed": false
   }
  }
 ],
 "metadata": {
  "kernelspec": {
   "display_name": "Python 3",
   "language": "python",
   "name": "python3"
  },
  "language_info": {
   "codemirror_mode": {
    "name": "ipython",
    "version": 2
   },
   "file_extension": ".py",
   "mimetype": "text/x-python",
   "name": "python",
   "nbconvert_exporter": "python",
   "pygments_lexer": "ipython2",
   "version": "2.7.6"
  }
 },
 "nbformat": 4,
 "nbformat_minor": 0
}
