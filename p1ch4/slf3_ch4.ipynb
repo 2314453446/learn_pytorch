{
 "cells": [
  {
   "cell_type": "code",
   "execution_count": 1,
   "outputs": [],
   "source": [
    "import numpy as np\n",
    "import torch\n",
    "torch.set_printoptions(edgeitems=2,threshold=50,linewidth=75)"
   ],
   "metadata": {
    "collapsed": false
   }
  },
  {
   "cell_type": "code",
   "execution_count": 2,
   "outputs": [],
   "source": [
    "bike_numpy = np.loadtxt('../data/p1ch4/bike-sharing-dataset/hour-fixed.csv',\n",
    "                        dtype=np.float32,\n",
    "                        delimiter=',',\n",
    "                        skiprows=1,\n",
    "                        converters={1:lambda x: float(x[8:10])})#skiprows =1 跳过第一行"
   ],
   "metadata": {
    "collapsed": false
   }
  },
  {
   "cell_type": "code",
   "execution_count": 3,
   "outputs": [
    {
     "data": {
      "text/plain": "tensor([[1.0000e+00, 1.0000e+00,  ..., 1.3000e+01, 1.6000e+01],\n        [2.0000e+00, 1.0000e+00,  ..., 3.2000e+01, 4.0000e+01],\n        ...,\n        [1.7378e+04, 3.1000e+01,  ..., 4.8000e+01, 6.1000e+01],\n        [1.7379e+04, 3.1000e+01,  ..., 3.7000e+01, 4.9000e+01]])"
     },
     "execution_count": 3,
     "metadata": {},
     "output_type": "execute_result"
    }
   ],
   "source": [
    "bikes = torch.from_numpy(bike_numpy)\n",
    "bikes"
   ],
   "metadata": {
    "collapsed": false
   }
  },
  {
   "cell_type": "code",
   "execution_count": 4,
   "outputs": [
    {
     "data": {
      "text/plain": "(torch.Size([17520, 17]), (17, 1))"
     },
     "execution_count": 4,
     "metadata": {},
     "output_type": "execute_result"
    }
   ],
   "source": [
    "bikes.shape,bikes.stride()"
   ],
   "metadata": {
    "collapsed": false
   }
  },
  {
   "cell_type": "code",
   "execution_count": 5,
   "outputs": [
    {
     "data": {
      "text/plain": "(torch.Size([730, 24, 17]), (408, 17, 1), 17)"
     },
     "execution_count": 5,
     "metadata": {},
     "output_type": "execute_result"
    }
   ],
   "source": [
    "daily_blikes = bikes.view(-1,24,bikes.shape[1])# .view(各个维度尺寸，，) -1表示自动计算该维度\n",
    "daily_blikes.shape , daily_blikes.stride() , bikes.shape[1]"
   ],
   "metadata": {
    "collapsed": false
   }
  },
  {
   "cell_type": "code",
   "execution_count": 6,
   "outputs": [
    {
     "data": {
      "text/plain": "(torch.Size([730, 17, 24]), (408, 1, 17))"
     },
     "execution_count": 6,
     "metadata": {},
     "output_type": "execute_result"
    }
   ],
   "source": [
    "daily_blikes = daily_blikes.transpose(1,2)#.transpose(1，2)将维度1和维度2 进行转置\n",
    "daily_blikes.shape,daily_blikes.stride()"
   ],
   "metadata": {
    "collapsed": false
   }
  },
  {
   "cell_type": "code",
   "execution_count": 7,
   "outputs": [
    {
     "data": {
      "text/plain": "(tensor([1, 1, 1, 1, 1, 2, 1, 1, 1, 1, 1, 1, 1, 2, 2, 2, 2, 2, 3, 3, 2, 2,\n         2, 2]),\n torch.Size([24, 17]))"
     },
     "execution_count": 7,
     "metadata": {},
     "output_type": "execute_result"
    }
   ],
   "source": [
    "first_day = bikes[:24].long()\n",
    "# bikes.shape,first_day.shape\n",
    "weather_onehot = torch.zeros(first_day.shape[0],4)\n",
    "first_day[:,9],first_day.shape"
   ],
   "metadata": {
    "collapsed": false
   }
  },
  {
   "cell_type": "code",
   "execution_count": 8,
   "outputs": [
    {
     "data": {
      "text/plain": "(tensor([ 1,  1,  1,  0,  1,  0,  0,  6,  0,  1,  0,  0,  0,  0,  3, 13, 16]),\n torch.Size([24, 4]),\n tensor([[0., 0., 0., 0.],\n         [0., 0., 0., 0.],\n         ...,\n         [0., 0., 0., 0.],\n         [0., 0., 0., 0.]]),\n torch.Size([24, 17]))"
     },
     "execution_count": 8,
     "metadata": {},
     "output_type": "execute_result"
    }
   ],
   "source": [
    "first_day[0], weather_onehot.shape,weather_onehot,bikes[:24].shape"
   ],
   "metadata": {
    "collapsed": false
   }
  },
  {
   "cell_type": "code",
   "execution_count": 9,
   "outputs": [
    {
     "data": {
      "text/plain": "tensor([[ 1.0000,  1.0000,  1.0000,  0.0000,  1.0000,  0.0000,  0.0000,\n          6.0000,  0.0000,  1.0000,  0.2400,  0.2879,  0.8100,  0.0000,\n          3.0000, 13.0000, 16.0000,  0.0000,  0.0000,  0.0000,  0.0000]])"
     },
     "execution_count": 9,
     "metadata": {},
     "output_type": "execute_result"
    }
   ],
   "source": [
    "torch.cat((bikes[:24],weather_onehot),1)[:1]#将 bikes[:24],weather_onehot按 1 维度 进行拼接，这两个参数shape都是【24：**】，第一维度进行拼接，则是得到shape【24：(bikes.shape[1]+weather.shape[1])】"
   ],
   "metadata": {
    "collapsed": false
   }
  },
  {
   "cell_type": "code",
   "execution_count": 10,
   "outputs": [
    {
     "data": {
      "text/plain": "torch.Size([1, 21])"
     },
     "execution_count": 10,
     "metadata": {},
     "output_type": "execute_result"
    }
   ],
   "source": [
    "torch.cat((bikes[:24],weather_onehot),1)[:1].shape"
   ],
   "metadata": {
    "collapsed": false
   }
  },
  {
   "cell_type": "code",
   "execution_count": 11,
   "outputs": [
    {
     "data": {
      "text/plain": "torch.Size([730, 4, 24])"
     },
     "execution_count": 11,
     "metadata": {},
     "output_type": "execute_result"
    }
   ],
   "source": [
    "daily_weather_onehot = torch.zeros(daily_blikes.shape[0],4,\n",
    "                                   daily_blikes.shape[2])\n",
    "daily_weather_onehot.shape"
   ],
   "metadata": {
    "collapsed": false,
    "pycharm": {
     "name": "#%%个\n"
    }
   }
  },
  {
   "cell_type": "code",
   "execution_count": 12,
   "outputs": [
    {
     "data": {
      "text/plain": "(tensor([[1],\n         [1],\n         [1],\n         [1],\n         [1],\n         [2],\n         [1],\n         [1],\n         [1],\n         [1],\n         [1],\n         [1],\n         [1],\n         [2],\n         [2],\n         [2],\n         [2],\n         [2],\n         [3],\n         [3],\n         [2],\n         [2],\n         [2],\n         [2]]),\n tensor([[0],\n         [0],\n         [0],\n         [0],\n         [0],\n         [1],\n         [0],\n         [0],\n         [0],\n         [0],\n         [0],\n         [0],\n         [0],\n         [1],\n         [1],\n         [1],\n         [1],\n         [1],\n         [2],\n         [2],\n         [1],\n         [1],\n         [1],\n         [1]]))"
     },
     "execution_count": 12,
     "metadata": {},
     "output_type": "execute_result"
    }
   ],
   "source": [
    "first_day[:,9].unsqueeze(1).long(),first_day[:,9].unsqueeze(1).long()-1"
   ],
   "metadata": {
    "collapsed": false
   }
  },
  {
   "cell_type": "code",
   "execution_count": 14,
   "outputs": [
    {
     "data": {
      "text/plain": "(torch.Size([730, 4, 24]),\n torch.Size([730, 24]),\n torch.Size([730, 17, 24]),\n torch.Size([730, 1, 24]))"
     },
     "execution_count": 14,
     "metadata": {},
     "output_type": "execute_result"
    }
   ],
   "source": [
    "daily_weather_onehot.scatter_(1,daily_blikes[:,9,:].long().unsqueeze(1)-1,1.0)\n",
    "daily_weather_onehot.shape, daily_blikes[:,9,:].shape,daily_blikes.shape,daily_blikes[:,9,:].long().unsqueeze(1).shape"
   ],
   "metadata": {
    "collapsed": false
   }
  },
  {
   "cell_type": "code",
   "execution_count": 15,
   "outputs": [
    {
     "data": {
      "text/plain": "torch.Size([730, 21, 24])"
     },
     "execution_count": 15,
     "metadata": {},
     "output_type": "execute_result"
    }
   ],
   "source": [
    "daily_blikes = torch.cat((daily_blikes,daily_weather_onehot),dim=1)\n",
    "daily_blikes.shape"
   ],
   "metadata": {
    "collapsed": false
   }
  },
  {
   "cell_type": "code",
   "execution_count": 16,
   "outputs": [],
   "source": [
    "daily_blikes[:,9,:] = (daily_blikes[:,9,:] - 1)/3.0"
   ],
   "metadata": {
    "collapsed": false
   }
  },
  {
   "cell_type": "code",
   "execution_count": 17,
   "outputs": [],
   "source": [
    "temp = daily_blikes[:,10,:]\n",
    "temp_min = torch.min(temp)\n",
    "temp_max = torch.max(temp)\n",
    "daily_blikes[:,10,:] = ((daily_blikes[:,10,:]- temp_min)/(temp_max - temp_min))"
   ],
   "metadata": {
    "collapsed": false
   }
  },
  {
   "cell_type": "code",
   "execution_count": 18,
   "outputs": [],
   "source": [
    "temp = daily_blikes[:,10,:]\n",
    "daily_blikes[:,10,:] = ((daily_blikes[:,10,:] - torch.mean(temp))/torch.std(temp))"
   ],
   "metadata": {
    "collapsed": false
   }
  },
  {
   "cell_type": "code",
   "execution_count": null,
   "outputs": [],
   "source": [],
   "metadata": {
    "collapsed": false
   }
  }
 ],
 "metadata": {
  "kernelspec": {
   "display_name": "Python 3",
   "language": "python",
   "name": "python3"
  },
  "language_info": {
   "codemirror_mode": {
    "name": "ipython",
    "version": 2
   },
   "file_extension": ".py",
   "mimetype": "text/x-python",
   "name": "python",
   "nbconvert_exporter": "python",
   "pygments_lexer": "ipython2",
   "version": "2.7.6"
  }
 },
 "nbformat": 4,
 "nbformat_minor": 0
}
