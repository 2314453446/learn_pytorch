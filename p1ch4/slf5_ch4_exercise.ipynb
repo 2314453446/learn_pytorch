{
 "cells": [
  {
   "cell_type": "code",
   "execution_count": 1,
   "metadata": {
    "collapsed": true
   },
   "outputs": [],
   "source": [
    "import numpy\n",
    "import torch"
   ]
  },
  {
   "cell_type": "code",
   "execution_count": 2,
   "outputs": [],
   "source": [
    "path = '/home/tuolong/learning/pytorch/data/p1ch4/exercise/'"
   ],
   "metadata": {
    "collapsed": false
   }
  },
  {
   "cell_type": "code",
   "execution_count": 7,
   "outputs": [
    {
     "data": {
      "text/plain": "torch.Size([3, 1080, 1920])"
     },
     "execution_count": 7,
     "metadata": {},
     "output_type": "execute_result"
    }
   ],
   "source": [
    "import imageio\n",
    "\n",
    "img_arr1 = imageio.v2.imread(path+'ch_cabbage_line6_230510_0229.jpg')\n",
    "img1 = torch.from_numpy(img_arr1)\n",
    "img1 = img1.permute(2,0,1)\n",
    "img1.shape"
   ],
   "metadata": {
    "collapsed": false
   }
  },
  {
   "cell_type": "code",
   "execution_count": 9,
   "outputs": [
    {
     "data": {
      "text/plain": "torch.Size([3, 1080, 1920])"
     },
     "execution_count": 9,
     "metadata": {},
     "output_type": "execute_result"
    }
   ],
   "source": [
    "img_arr2 = imageio.v2.imread(path+'weed_top_line13_230510_0217.jpg')\n",
    "img2 = torch.from_numpy(img_arr2)\n",
    "img2 = img2.permute(2,0,1)# permute,置换，置换通道位置\n",
    "img2.shape"
   ],
   "metadata": {
    "collapsed": false
   }
  },
  {
   "cell_type": "code",
   "execution_count": 11,
   "outputs": [
    {
     "data": {
      "text/plain": "(tensor(0.4854), tensor(0.4598))"
     },
     "execution_count": 11,
     "metadata": {},
     "output_type": "execute_result"
    }
   ],
   "source": [
    "mean1 = img1.float().mean()/(255.0)\n",
    "mean2 = img2.float().mean()/(255.0)\n",
    "mean1,mean2"
   ],
   "metadata": {
    "collapsed": false
   }
  },
  {
   "cell_type": "code",
   "execution_count": 14,
   "outputs": [
    {
     "data": {
      "text/plain": "(tensor(0.4844), tensor(0.4869), tensor(0.4849))"
     },
     "execution_count": 14,
     "metadata": {},
     "output_type": "execute_result"
    }
   ],
   "source": [
    "img1_mean_0= img1[0,:,:].float().mean()/(255.0)\n",
    "img1_mean_1 = img1[1,:,:].float().mean()/(255.0)\n",
    "img1_mean_2 = img1[2,:,:].float().mean()/(255.0)\n",
    "img1_mean_0,img1_mean_1,img1_mean_2"
   ],
   "metadata": {
    "collapsed": false
   }
  },
  {
   "cell_type": "code",
   "execution_count": 15,
   "outputs": [
    {
     "data": {
      "text/plain": "(tensor(0.4550), tensor(0.4524), tensor(0.4719))"
     },
     "execution_count": 15,
     "metadata": {},
     "output_type": "execute_result"
    }
   ],
   "source": [
    "img2_mean_0= img2[0,:,:].float().mean()/(255.0)\n",
    "img2_mean_1 = img2[1,:,:].float().mean()/(255.0)\n",
    "img2_mean_2 = img2[2,:,:].float().mean()/(255.0)\n",
    "img2_mean_0,img2_mean_1,img2_mean_2"
   ],
   "metadata": {
    "collapsed": false
   }
  },
  {
   "cell_type": "code",
   "execution_count": 16,
   "outputs": [],
   "source": [
    "#exercise 2"
   ],
   "metadata": {
    "collapsed": false
   }
  },
  {
   "cell_type": "code",
   "execution_count": 17,
   "outputs": [],
   "source": [
    "with open('../p2ch11/model.py',encoding='utf8')as f:\n",
    "    text = f.read()"
   ],
   "metadata": {
    "collapsed": false
   }
  },
  {
   "cell_type": "code",
   "execution_count": 18,
   "outputs": [
    {
     "data": {
      "text/plain": "(89, '# log.setLevel(logging.WARN)')"
     },
     "execution_count": 18,
     "metadata": {},
     "output_type": "execute_result"
    }
   ],
   "source": [
    "lines = text.split('\\n')\n",
    "len(lines),lines[6]"
   ],
   "metadata": {
    "collapsed": false
   }
  },
  {
   "cell_type": "code",
   "execution_count": 20,
   "outputs": [
    {
     "data": {
      "text/plain": "'log = logging.getlogger(  name  )'"
     },
     "execution_count": 20,
     "metadata": {},
     "output_type": "execute_result"
    }
   ],
   "source": [
    "#将[]+_这些字符变成空格\n",
    "for i,line in enumerate(lines):\n",
    "    templine = line.lower().replace('[',' ')\n",
    "    templine = line.lower().replace(']',' ')\n",
    "    templine = line.lower().replace('+',' ')\n",
    "    templine = line.lower().replace('_',' ')\n",
    "    lines[i] = templine\n",
    "lines[6]"
   ],
   "metadata": {
    "collapsed": false
   }
  },
  {
   "cell_type": "code",
   "execution_count": 21,
   "outputs": [],
   "source": [
    "# def clean_words(input_str):\n",
    "#     punctuation = '.,;:\"!?“”_-[]+'\n",
    "#     word_list = input_str.lower().replace('\\n',' ').split()\n",
    "#     word_list = [word.strip(punctuation) for word in word_list]\n",
    "#     return word_list"
   ],
   "metadata": {
    "collapsed": false
   }
  },
  {
   "cell_type": "code",
   "execution_count": 33,
   "outputs": [],
   "source": [
    "def clean_words(input_str):\n",
    "    punctuation = '.,;:\"!?“”_-[]+'\n",
    "    tempstr = input_str.lower().replace('\\n',' ')\n",
    "    tempstr = tempstr.replace('[',' ')\n",
    "    tempstr = tempstr.replace(']',' ')\n",
    "    tempstr = tempstr.replace('(',' ')\n",
    "    tempstr = tempstr.replace(')',' ')\n",
    "    tempstr = tempstr.replace('{',' ')\n",
    "    tempstr = tempstr.replace('}',' ')\n",
    "    tempstr = tempstr.replace('_',' ')\n",
    "    tempstr = tempstr.replace(',',' ')\n",
    "    tempstr = tempstr.replace('.',' ')\n",
    "    word_list = tempstr.split()\n",
    "    word_list = [word.strip(punctuation) for word in word_list]\n",
    "    return word_list"
   ],
   "metadata": {
    "collapsed": false
   }
  },
  {
   "cell_type": "code",
   "execution_count": 34,
   "outputs": [
    {
     "data": {
      "text/plain": "['',\n '#',\n '*',\n '/',\n '0',\n '1',\n '1152',\n '2',\n '4',\n '8',\n '=',\n '\\\\',\n 'a=0',\n 'also',\n 'and',\n 'as',\n 'batch',\n 'batchnorm',\n 'batchnorm3d',\n 'bias',\n 'bias=true',\n 'block',\n 'block1',\n 'block2',\n 'block3',\n 'block4',\n 'bn',\n 'bound',\n 'calculate',\n 'channels',\n 'channels=1',\n 'channels=8',\n 'class',\n 'com/pytorch/pytorch/issues/18182',\n 'conv',\n 'conv1',\n 'conv2',\n 'conv2d',\n 'conv3d',\n 'convtranspose2d',\n 'convtranspose3d',\n 'data',\n 'debug',\n 'def',\n 'dim=1',\n 'fan',\n 'flat',\n 'for',\n 'forward',\n 'from',\n 'getlogger',\n 'head',\n 'https://github',\n 'if',\n 'import',\n 'in',\n 'info',\n 'init',\n 'inplace=true',\n 'input',\n 'is',\n 'kaiming',\n 'kernel',\n 'linear',\n 'log',\n 'logconf',\n 'logging',\n 'lunablock',\n 'lunamodel',\n 'm',\n 'math',\n 'maxpool',\n 'maxpool3d',\n \"mode='fan\",\n 'module',\n 'modules',\n 'name',\n 'nn',\n 'none',\n \"nonlinearity='relu'\",\n 'normal',\n 'not',\n 'out',\n \"out'\",\n 'output',\n 'padding=1',\n 'relu',\n 'relu1',\n 'relu2',\n 'return',\n 'see',\n 'self',\n 'setlevel',\n 'size',\n 'size=3',\n 'softmax',\n 'sqrt',\n 'super',\n 'tail',\n 'torch',\n 'type',\n 'util',\n 'view',\n 'warn',\n 'weight',\n 'weights']"
     },
     "execution_count": 34,
     "metadata": {},
     "output_type": "execute_result"
    }
   ],
   "source": [
    "word_list = sorted(set(clean_words(text)))#sorted 会将set 重新转换成列表\n",
    "word_list"
   ],
   "metadata": {
    "collapsed": false
   }
  },
  {
   "cell_type": "markdown",
   "source": [],
   "metadata": {
    "collapsed": false
   }
  },
  {
   "cell_type": "code",
   "execution_count": 35,
   "outputs": [],
   "source": [
    "word2index_dict = {word: i for (i,word) in enumerate(word_list)}"
   ],
   "metadata": {
    "collapsed": false
   }
  },
  {
   "cell_type": "code",
   "execution_count": 40,
   "outputs": [
    {
     "data": {
      "text/plain": "(106, 362)"
     },
     "execution_count": 40,
     "metadata": {},
     "output_type": "execute_result"
    }
   ],
   "source": [
    "text_in_words =clean_words(text)\n",
    "len(word_list),len(text_in_words)"
   ],
   "metadata": {
    "collapsed": false
   }
  },
  {
   "cell_type": "code",
   "execution_count": 42,
   "outputs": [],
   "source": [
    "text_one_hot = torch.zeros(len(text_in_words),len(word_list))"
   ],
   "metadata": {
    "collapsed": false
   }
  },
  {
   "cell_type": "code",
   "execution_count": 43,
   "outputs": [
    {
     "data": {
      "text/plain": "torch.Size([362, 106])"
     },
     "execution_count": 43,
     "metadata": {},
     "output_type": "execute_result"
    }
   ],
   "source": [
    "for i,word in enumerate(text_in_words):\n",
    "    wordindex = word2index_dict[word]\n",
    "    text_one_hot[i][wordindex]=1\n",
    "\n",
    "text_one_hot.shape"
   ],
   "metadata": {
    "collapsed": false
   }
  },
  {
   "cell_type": "code",
   "execution_count": null,
   "outputs": [],
   "source": [],
   "metadata": {
    "collapsed": false
   }
  }
 ],
 "metadata": {
  "kernelspec": {
   "display_name": "Python 3",
   "language": "python",
   "name": "python3"
  },
  "language_info": {
   "codemirror_mode": {
    "name": "ipython",
    "version": 2
   },
   "file_extension": ".py",
   "mimetype": "text/x-python",
   "name": "python",
   "nbconvert_exporter": "python",
   "pygments_lexer": "ipython2",
   "version": "2.7.6"
  }
 },
 "nbformat": 4,
 "nbformat_minor": 0
}
