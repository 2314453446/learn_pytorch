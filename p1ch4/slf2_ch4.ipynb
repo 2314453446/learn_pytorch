{
 "cells": [
  {
   "cell_type": "code",
   "execution_count": 1,
   "metadata": {
    "collapsed": true
   },
   "outputs": [],
   "source": [
    "import numpy as np\n",
    "import torch\n",
    "torch.set_printoptions(edgeitems=2,precision=2,linewidth=75)"
   ]
  },
  {
   "cell_type": "code",
   "execution_count": 2,
   "outputs": [],
   "source": [
    "import pandas as pd\n",
    "import csv\n",
    "wine_path=\"../data/p1ch4/tabular-wine/winequality-white.csv\""
   ],
   "metadata": {
    "collapsed": false
   }
  },
  {
   "cell_type": "code",
   "execution_count": 3,
   "outputs": [
    {
     "data": {
      "text/plain": "array([[ 7.  ,  0.27,  0.36, ...,  0.45,  8.8 ,  6.  ],\n       [ 6.3 ,  0.3 ,  0.34, ...,  0.49,  9.5 ,  6.  ],\n       [ 8.1 ,  0.28,  0.4 , ...,  0.44, 10.1 ,  6.  ],\n       ...,\n       [ 6.5 ,  0.24,  0.19, ...,  0.46,  9.4 ,  6.  ],\n       [ 5.5 ,  0.29,  0.3 , ...,  0.38, 12.8 ,  7.  ],\n       [ 6.  ,  0.21,  0.38, ...,  0.32, 11.8 ,  6.  ]], dtype=float32)"
     },
     "execution_count": 3,
     "metadata": {},
     "output_type": "execute_result"
    }
   ],
   "source": [
    "wineq_numpy = np.loadtxt(wine_path,dtype=np.float32,delimiter=\";\",\n",
    "                         skiprows=1)\n",
    "wineq_numpy"
   ],
   "metadata": {
    "collapsed": false
   }
  },
  {
   "cell_type": "code",
   "execution_count": 4,
   "outputs": [
    {
     "data": {
      "text/plain": "((4898, 12),\n ['fixed acidity',\n  'volatile acidity',\n  'citric acid',\n  'residual sugar',\n  'chlorides',\n  'free sulfur dioxide',\n  'total sulfur dioxide',\n  'density',\n  'pH',\n  'sulphates',\n  'alcohol',\n  'quality'])"
     },
     "execution_count": 4,
     "metadata": {},
     "output_type": "execute_result"
    }
   ],
   "source": [
    "col_list = next(csv.reader(open(wine_path),delimiter=\";\"))\n",
    "wineq_numpy.shape,col_list"
   ],
   "metadata": {
    "collapsed": false
   }
  },
  {
   "cell_type": "code",
   "execution_count": 5,
   "outputs": [
    {
     "data": {
      "text/plain": "(torch.Size([4898, 12]), torch.float32)"
     },
     "execution_count": 5,
     "metadata": {},
     "output_type": "execute_result"
    }
   ],
   "source": [
    "wineq = torch.from_numpy(wineq_numpy)\n",
    "wineq.shape,wineq.dtype"
   ],
   "metadata": {
    "collapsed": false
   }
  },
  {
   "cell_type": "code",
   "execution_count": 6,
   "outputs": [
    {
     "data": {
      "text/plain": "(tensor([[ 7.00,  0.27,  ...,  0.45,  8.80],\n         [ 6.30,  0.30,  ...,  0.49,  9.50],\n         ...,\n         [ 5.50,  0.29,  ...,  0.38, 12.80],\n         [ 6.00,  0.21,  ...,  0.32, 11.80]]),\n torch.Size([4898, 11]))"
     },
     "execution_count": 6,
     "metadata": {},
     "output_type": "execute_result"
    }
   ],
   "source": [
    "data = wineq[:,:-1]\n",
    "data,data.shape"
   ],
   "metadata": {
    "collapsed": false
   }
  },
  {
   "cell_type": "code",
   "execution_count": 7,
   "outputs": [
    {
     "data": {
      "text/plain": "(tensor([6., 6.,  ..., 7., 6.]), torch.Size([4898]))"
     },
     "execution_count": 7,
     "metadata": {},
     "output_type": "execute_result"
    }
   ],
   "source": [
    "target = wineq[:,-1]\n",
    "target,target.shape"
   ],
   "metadata": {
    "collapsed": false
   }
  },
  {
   "cell_type": "code",
   "execution_count": 8,
   "outputs": [
    {
     "data": {
      "text/plain": "tensor([6, 6,  ..., 7, 6])"
     },
     "execution_count": 8,
     "metadata": {},
     "output_type": "execute_result"
    }
   ],
   "source": [
    "target = wineq[:,-1].long()\n",
    "target"
   ],
   "metadata": {
    "collapsed": false
   }
  },
  {
   "cell_type": "code",
   "execution_count": 9,
   "outputs": [
    {
     "data": {
      "text/plain": "(tensor(3), tensor(9))"
     },
     "execution_count": 9,
     "metadata": {},
     "output_type": "execute_result"
    }
   ],
   "source": [
    "target.min(),target.max()"
   ],
   "metadata": {
    "collapsed": false
   }
  },
  {
   "cell_type": "code",
   "execution_count": 10,
   "outputs": [],
   "source": [
    "target_onehot = torch.zeros(target.shape[0],10)"
   ],
   "metadata": {
    "collapsed": false
   }
  },
  {
   "cell_type": "code",
   "execution_count": 11,
   "outputs": [
    {
     "data": {
      "text/plain": "(tensor([[0., 0.,  ..., 0., 0.],\n         [0., 0.,  ..., 0., 0.],\n         ...,\n         [0., 0.,  ..., 0., 0.],\n         [0., 0.,  ..., 0., 0.]]),\n tensor([[6],\n         [6],\n         ...,\n         [7],\n         [6]]))"
     },
     "execution_count": 11,
     "metadata": {},
     "output_type": "execute_result"
    }
   ],
   "source": [
    "temp = target.unsqueeze(1)\n",
    "target_onehot.scatter_(1,temp,1.0),temp"
   ],
   "metadata": {
    "collapsed": false
   }
  },
  {
   "cell_type": "code",
   "execution_count": 12,
   "outputs": [
    {
     "data": {
      "text/plain": "(tensor([[0., 0., 0., 0., 0., 0., 1., 0., 0., 0.],\n         [0., 0., 0., 0., 0., 0., 1., 0., 0., 0.],\n         [0., 0., 0., 0., 0., 0., 1., 0., 0., 0.]]),\n tensor([6, 6, 6]))"
     },
     "execution_count": 12,
     "metadata": {},
     "output_type": "execute_result"
    }
   ],
   "source": [
    "target_onehot[0:3],target[0:3]"
   ],
   "metadata": {
    "collapsed": false
   }
  },
  {
   "cell_type": "code",
   "execution_count": 13,
   "outputs": [
    {
     "data": {
      "text/plain": "(tensor([[6],\n         [6],\n         ...,\n         [7],\n         [6]]),\n tensor([6, 6,  ..., 7, 6]),\n torch.Size([4898]),\n torch.Size([4898, 1]))"
     },
     "execution_count": 13,
     "metadata": {},
     "output_type": "execute_result"
    }
   ],
   "source": [
    "target_unsqueezed = target.unsqueeze(1)\n",
    "target_unsqueezed,target,target.shape,target_unsqueezed.shape"
   ],
   "metadata": {
    "collapsed": false
   }
  },
  {
   "cell_type": "code",
   "execution_count": 15,
   "outputs": [
    {
     "data": {
      "text/plain": "(torch.Size([11]),\n tensor([6.85e+00, 2.78e-01, 3.34e-01, 6.39e+00, 4.58e-02, 3.53e+01,\n         1.38e+02, 9.94e-01, 3.19e+00, 4.90e-01, 1.05e+01]))"
     },
     "execution_count": 15,
     "metadata": {},
     "output_type": "execute_result"
    }
   ],
   "source": [
    "data_mean = torch.mean(data,dim=0)\n",
    "data_mean.shape,data_mean"
   ],
   "metadata": {
    "collapsed": false
   }
  },
  {
   "cell_type": "code",
   "execution_count": 16,
   "outputs": [
    {
     "data": {
      "text/plain": "tensor([8.44e-01, 1.01e-01, 1.21e-01, 5.07e+00, 2.18e-02, 1.70e+01,\n        4.25e+01, 2.99e-03, 1.51e-01, 1.14e-01, 1.23e+00])"
     },
     "execution_count": 16,
     "metadata": {},
     "output_type": "execute_result"
    }
   ],
   "source": [
    "data_std = torch.std(data,dim=0) # torch.std 计算标准差\n",
    "data_std"
   ],
   "metadata": {
    "collapsed": false
   }
  },
  {
   "cell_type": "code",
   "execution_count": 17,
   "outputs": [
    {
     "data": {
      "text/plain": "tensor([7.12e-01, 1.02e-02, 1.46e-02, 2.57e+01, 4.77e-04, 2.89e+02,\n        1.81e+03, 8.95e-06, 2.28e-02, 1.30e-02, 1.51e+00])"
     },
     "execution_count": 17,
     "metadata": {},
     "output_type": "execute_result"
    }
   ],
   "source": [
    "data_var = torch.var(data,dim=0)\n",
    "data_var"
   ],
   "metadata": {
    "collapsed": false
   }
  },
  {
   "cell_type": "code",
   "execution_count": 18,
   "outputs": [
    {
     "data": {
      "text/plain": "tensor([[-1.12, -2.49,  ..., -3.84,  0.26],\n        [-1.82, -2.46,  ..., -3.80,  0.96],\n        ...,\n        [-2.62, -2.47,  ..., -3.91,  4.26],\n        [-2.12, -2.55,  ..., -3.97,  3.26]])"
     },
     "execution_count": 18,
     "metadata": {},
     "output_type": "execute_result"
    }
   ],
   "source": [
    "data_normalized = data - data_mean /torch.sqrt(data_var)\n",
    "data_normalized"
   ],
   "metadata": {
    "collapsed": false
   }
  },
  {
   "cell_type": "code",
   "execution_count": 20,
   "outputs": [
    {
     "data": {
      "text/plain": "(torch.Size([4898]),\n torch.bool,\n tensor(20),\n tensor([False, False,  ..., False, False]),\n tensor([6, 6,  ..., 7, 6]))"
     },
     "execution_count": 20,
     "metadata": {},
     "output_type": "execute_result"
    }
   ],
   "source": [
    "bad_indexs = target<=3\n",
    "bad_indexs.shape,bad_indexs.dtype,bad_indexs.sum(),bad_indexs,target"
   ],
   "metadata": {
    "collapsed": false
   }
  },
  {
   "cell_type": "code",
   "execution_count": 22,
   "outputs": [
    {
     "data": {
      "text/plain": "(torch.Size([20, 11]),\n tensor([[8.50e+00, 2.60e-01, 2.10e-01, 1.62e+01, 7.40e-02, 4.10e+01,\n          1.97e+02, 9.98e-01, 3.02e+00, 5.00e-01, 9.80e+00],\n         [5.80e+00, 2.40e-01, 4.40e-01, 3.50e+00, 2.90e-02, 5.00e+00,\n          1.09e+02, 9.91e-01, 3.53e+00, 4.30e-01, 1.17e+01],\n         [9.10e+00, 5.90e-01, 3.80e-01, 1.60e+00, 6.60e-02, 3.40e+01,\n          1.82e+02, 9.97e-01, 3.23e+00, 3.80e-01, 8.50e+00],\n         [7.10e+00, 3.20e-01, 3.20e-01, 1.10e+01, 3.80e-02, 1.60e+01,\n          6.60e+01, 9.94e-01, 3.24e+00, 4.00e-01, 1.15e+01],\n         [6.90e+00, 3.90e-01, 4.00e-01, 4.60e+00, 2.20e-02, 5.00e+00,\n          1.90e+01, 9.92e-01, 3.31e+00, 3.70e-01, 1.26e+01],\n         [1.03e+01, 1.70e-01, 4.70e-01, 1.40e+00, 3.70e-02, 5.00e+00,\n          3.30e+01, 9.94e-01, 2.89e+00, 2.80e-01, 9.60e+00],\n         [7.90e+00, 6.40e-01, 4.60e-01, 1.06e+01, 2.44e-01, 3.30e+01,\n          2.27e+02, 9.98e-01, 2.87e+00, 7.40e-01, 9.10e+00],\n         [8.30e+00, 3.30e-01, 4.20e-01, 1.15e+00, 3.30e-02, 1.80e+01,\n          9.60e+01, 9.91e-01, 3.20e+00, 3.20e-01, 1.24e+01],\n         [8.60e+00, 5.50e-01, 3.50e-01, 1.56e+01, 5.70e-02, 3.55e+01,\n          3.66e+02, 1.00e+00, 3.04e+00, 6.30e-01, 1.10e+01],\n         [7.50e+00, 3.20e-01, 2.40e-01, 4.60e+00, 5.30e-02, 8.00e+00,\n          1.34e+02, 9.96e-01, 3.14e+00, 5.00e-01, 9.10e+00],\n         [6.70e+00, 2.50e-01, 2.60e-01, 1.55e+00, 4.10e-02, 1.18e+02,\n          2.16e+02, 9.95e-01, 3.55e+00, 6.30e-01, 9.40e+00],\n         [7.10e+00, 4.90e-01, 2.20e-01, 2.00e+00, 4.70e-02, 1.46e+02,\n          3.08e+02, 9.92e-01, 3.24e+00, 3.70e-01, 1.10e+01],\n         [1.18e+01, 2.30e-01, 3.80e-01, 1.11e+01, 3.40e-02, 1.50e+01,\n          1.23e+02, 1.00e+00, 2.93e+00, 5.50e-01, 9.70e+00],\n         [7.60e+00, 4.80e-01, 3.70e-01, 1.20e+00, 3.40e-02, 5.00e+00,\n          5.70e+01, 9.93e-01, 3.05e+00, 5.40e-01, 1.04e+01],\n         [6.10e+00, 2.00e-01, 3.40e-01, 9.50e+00, 4.10e-02, 3.80e+01,\n          2.01e+02, 9.95e-01, 3.14e+00, 4.40e-01, 1.01e+01],\n         [4.20e+00, 2.15e-01, 2.30e-01, 5.10e+00, 4.10e-02, 6.40e+01,\n          1.57e+02, 9.97e-01, 3.42e+00, 4.40e-01, 8.00e+00],\n         [9.40e+00, 2.40e-01, 2.90e-01, 8.50e+00, 3.70e-02, 1.24e+02,\n          2.08e+02, 9.94e-01, 2.90e+00, 3.80e-01, 1.10e+01],\n         [6.20e+00, 2.30e-01, 3.50e-01, 7.00e-01, 5.10e-02, 2.40e+01,\n          1.11e+02, 9.92e-01, 3.37e+00, 4.30e-01, 1.10e+01],\n         [6.80e+00, 2.60e-01, 3.40e-01, 1.51e+01, 6.00e-02, 4.20e+01,\n          1.62e+02, 9.97e-01, 3.24e+00, 5.20e-01, 1.05e+01],\n         [6.10e+00, 2.60e-01, 2.50e-01, 2.90e+00, 4.70e-02, 2.89e+02,\n          4.40e+02, 9.93e-01, 3.44e+00, 6.40e-01, 1.05e+01]]),\n tensor([[ 7.00,  0.27,  ...,  0.45,  8.80],\n         [ 6.30,  0.30,  ...,  0.49,  9.50],\n         ...,\n         [ 5.50,  0.29,  ...,  0.38, 12.80],\n         [ 6.00,  0.21,  ...,  0.32, 11.80]]))"
     },
     "execution_count": 22,
     "metadata": {},
     "output_type": "execute_result"
    }
   ],
   "source": [
    "bad_data = data[bad_indexs]\n",
    "bad_data.shape,bad_data,data"
   ],
   "metadata": {
    "collapsed": false
   }
  },
  {
   "cell_type": "code",
   "execution_count": 26,
   "outputs": [
    {
     "data": {
      "text/plain": "(torch.Size([20, 11]),\n torch.Size([3818, 11]),\n torch.Size([1060, 11]),\n torch.Size([4898, 11]),\n torch.Size([4898]),\n tensor([6, 6,  ..., 7, 6]),\n torch.Size([4898, 1]))"
     },
     "execution_count": 26,
     "metadata": {},
     "output_type": "execute_result"
    }
   ],
   "source": [
    "bad_data = data[target<=3]\n",
    "min_data = data[(target>3)&(target<7)]\n",
    "good_data = data[target>=7]\n",
    "bad_data.shape,min_data.shape,good_data.shape,data.shape,target.shape,target,target_unsqueezed.shape"
   ],
   "metadata": {
    "collapsed": false
   }
  },
  {
   "cell_type": "code",
   "execution_count": 27,
   "outputs": [],
   "source": [
    "bad_mean =torch.mean(bad_data,dim=0)\n",
    "mid_mean = torch.mean(min_data,dim=0)\n",
    "good_mean = torch.mean(good_data,dim=0)"
   ],
   "metadata": {
    "collapsed": false
   }
  },
  {
   "cell_type": "code",
   "execution_count": 28,
   "outputs": [
    {
     "data": {
      "text/plain": "tensor([7.60e+00, 3.33e-01, 3.36e-01, 6.39e+00, 5.43e-02, 5.33e+01,\n        1.71e+02, 9.95e-01, 3.19e+00, 4.75e-01, 1.03e+01])"
     },
     "execution_count": 28,
     "metadata": {},
     "output_type": "execute_result"
    }
   ],
   "source": [
    "bad_mean"
   ],
   "metadata": {
    "collapsed": false
   }
  },
  {
   "cell_type": "code",
   "execution_count": 29,
   "outputs": [
    {
     "data": {
      "text/plain": "tensor([6.89e+00, 2.82e-01, 3.36e-01, 6.71e+00, 4.78e-02, 3.54e+01,\n        1.42e+02, 9.94e-01, 3.18e+00, 4.87e-01, 1.03e+01])"
     },
     "execution_count": 29,
     "metadata": {},
     "output_type": "execute_result"
    }
   ],
   "source": [
    "mid_mean"
   ],
   "metadata": {
    "collapsed": false
   }
  },
  {
   "cell_type": "code",
   "execution_count": 30,
   "outputs": [
    {
     "data": {
      "text/plain": "tensor([6.73e+00, 2.65e-01, 3.26e-01, 5.26e+00, 3.82e-02, 3.46e+01,\n        1.25e+02, 9.92e-01, 3.22e+00, 5.00e-01, 1.14e+01])"
     },
     "execution_count": 30,
     "metadata": {},
     "output_type": "execute_result"
    }
   ],
   "source": [
    "good_mean"
   ],
   "metadata": {
    "collapsed": false
   }
  },
  {
   "cell_type": "code",
   "execution_count": 32,
   "outputs": [
    {
     "name": "stdout",
     "output_type": "stream",
     "text": [
      " 0 fixed acidity          7.60   6.89   6.73\n",
      " 1 volatile acidity       0.33   0.28   0.27\n",
      " 2 citric acid            0.34   0.34   0.33\n",
      " 3 residual sugar         6.39   6.71   5.26\n",
      " 4 chlorides              0.05   0.05   0.04\n",
      " 5 free sulfur dioxide   53.33  35.42  34.55\n",
      " 6 total sulfur dioxide 170.60 141.83 125.25\n",
      " 7 density                0.99   0.99   0.99\n",
      " 8 pH                     3.19   3.18   3.22\n",
      " 9 sulphates              0.47   0.49   0.50\n",
      "10 alcohol               10.34  10.26  11.42\n"
     ]
    }
   ],
   "source": [
    "for i,args in enumerate(zip(col_list,bad_mean,mid_mean,good_mean)):\n",
    "    print('{:2} {:20} {:6.2f} {:6.2f} {:6.2f}'.format(i,*args))"
   ],
   "metadata": {
    "collapsed": false
   }
  },
  {
   "cell_type": "code",
   "execution_count": 33,
   "outputs": [],
   "source": [
    "total_sulfur_threshold =141.83\n",
    "total_sulfur_data = data[:,6]\n",
    "predicted_indexes = torch.lt(total_sulfur_data,total_sulfur_threshold)"
   ],
   "metadata": {
    "collapsed": false
   }
  },
  {
   "cell_type": "code",
   "execution_count": 34,
   "outputs": [
    {
     "data": {
      "text/plain": "(torch.Size([4898]), torch.bool, tensor(2727))"
     },
     "execution_count": 34,
     "metadata": {},
     "output_type": "execute_result"
    }
   ],
   "source": [
    "predicted_indexes.shape,predicted_indexes.dtype,predicted_indexes.sum()"
   ],
   "metadata": {
    "collapsed": false
   }
  },
  {
   "cell_type": "code",
   "execution_count": 35,
   "outputs": [
    {
     "data": {
      "text/plain": "(torch.Size([4898]), torch.bool, tensor(3258))"
     },
     "execution_count": 35,
     "metadata": {},
     "output_type": "execute_result"
    }
   ],
   "source": [
    "actual_index = target >5\n",
    "actual_index.shape, actual_index.dtype,actual_index.sum()#actual_index为布尔类型，则.sum()返回True元素数量"
   ],
   "metadata": {
    "collapsed": false
   }
  },
  {
   "cell_type": "markdown",
   "source": [],
   "metadata": {
    "collapsed": false
   }
  },
  {
   "cell_type": "code",
   "execution_count": 36,
   "outputs": [
    {
     "data": {
      "text/plain": "2018"
     },
     "execution_count": 36,
     "metadata": {},
     "output_type": "execute_result"
    }
   ],
   "source": [
    "n_matches = torch.sum(actual_index & predicted_indexes).item()#.\n",
    "n_matches"
   ],
   "metadata": {
    "collapsed": false
   }
  },
  {
   "cell_type": "code",
   "execution_count": 38,
   "outputs": [
    {
     "data": {
      "text/plain": "2727"
     },
     "execution_count": 38,
     "metadata": {},
     "output_type": "execute_result"
    }
   ],
   "source": [
    "n_predicted = torch.sum(predicted_indexes).item()\n",
    "n_predicted"
   ],
   "metadata": {
    "collapsed": false
   }
  },
  {
   "cell_type": "code",
   "execution_count": 39,
   "outputs": [
    {
     "data": {
      "text/plain": "3258"
     },
     "execution_count": 39,
     "metadata": {},
     "output_type": "execute_result"
    }
   ],
   "source": [
    "n_actual =torch.sum(actual_index).item()\n",
    "n_actual"
   ],
   "metadata": {
    "collapsed": false
   }
  },
  {
   "cell_type": "code",
   "execution_count": 40,
   "outputs": [
    {
     "data": {
      "text/plain": "(0.74000733406674, 0.6193984039287906)"
     },
     "execution_count": 40,
     "metadata": {},
     "output_type": "execute_result"
    }
   ],
   "source": [
    "n_matches / n_predicted,n_matches/n_actual  #precision and recall"
   ],
   "metadata": {
    "collapsed": false
   }
  },
  {
   "cell_type": "code",
   "execution_count": null,
   "outputs": [],
   "source": [],
   "metadata": {
    "collapsed": false
   }
  }
 ],
 "metadata": {
  "kernelspec": {
   "display_name": "Python 3",
   "language": "python",
   "name": "python3"
  },
  "language_info": {
   "codemirror_mode": {
    "name": "ipython",
    "version": 2
   },
   "file_extension": ".py",
   "mimetype": "text/x-python",
   "name": "python",
   "nbconvert_exporter": "python",
   "pygments_lexer": "ipython2",
   "version": "2.7.6"
  }
 },
 "nbformat": 4,
 "nbformat_minor": 0
}
