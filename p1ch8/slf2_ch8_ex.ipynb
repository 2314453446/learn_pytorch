{
 "cells": [
  {
   "cell_type": "code",
   "execution_count": 1,
   "metadata": {
    "collapsed": true
   },
   "outputs": [],
   "source": [
    "%matplotlib inline\n",
    "from matplotlib import pyplot as plt\n",
    "import numpy as np\n",
    "import collections\n",
    "\n",
    "import torch\n",
    "import torch.nn as nn\n",
    "import torch.nn.functional as F\n",
    "import torch.optim as optim\n",
    "\n",
    "torch.set_printoptions(edgeitems=2)\n",
    "torch.manual_seed(123)\n",
    "\n",
    "class_name = ['airplane','automobile','bird','cat','deer','dog','frog','horse','ship','truck']\n"
   ]
  },
  {
   "cell_type": "code",
   "execution_count": 5,
   "outputs": [
    {
     "name": "stdout",
     "output_type": "stream",
     "text": [
      "Files already downloaded and verified\n"
     ]
    }
   ],
   "source": [
    "from torchvision import datasets,transforms\n",
    "data_path = '../data_unversioned/p1ch7/'\n",
    "cifar10 =datasets.CIFAR10(data_path,train=True,download=True,\n",
    "                          transform=transforms.Compose([\n",
    "                              transforms.ToTensor(),\n",
    "                              transforms.Normalize(\n",
    "                                  (0.4915,0.4823,0.4468),\n",
    "                                  (0.2470,0.2435,0.2616))\n",
    "                          ]))"
   ],
   "metadata": {
    "collapsed": false
   }
  },
  {
   "cell_type": "code",
   "execution_count": 6,
   "outputs": [
    {
     "name": "stdout",
     "output_type": "stream",
     "text": [
      "Files already downloaded and verified\n"
     ]
    }
   ],
   "source": [
    "cifar10_val = datasets.CIFAR10(\n",
    "    data_path,train=False,download=True,\n",
    "    transform=transforms.Compose([\n",
    "        transforms.ToTensor(),\n",
    "        transforms.Normalize((0.4915,0.4823,0.4468),\n",
    "                             (0.2470,0.2435,0.2616))\n",
    "    ])\n",
    ")"
   ],
   "metadata": {
    "collapsed": false
   }
  },
  {
   "cell_type": "code",
   "execution_count": 7,
   "outputs": [],
   "source": [
    "label_map = {0:0,2:1}\n",
    "class_names = ['airplane','bird']\n",
    "cifar2 = [(img,label_map[label]) for img,label in cifar10 if label in [0,2]]\n",
    "cifar2_val = [(img,label_map[label]) for img,label in cifar10_val if label in [0,2]]"
   ],
   "metadata": {
    "collapsed": false
   }
  },
  {
   "cell_type": "code",
   "execution_count": 8,
   "outputs": [],
   "source": [
    "class Net(nn.Module):\n",
    "    def __init__(self):\n",
    "        super().__init__()\n",
    "        self.conv1 = nn.Conv2d(3,16,kernel_size=3,padding=1)\n",
    "        self.conv2 = nn.Conv2d(16,8,kernel_size=3,padding=1)\n",
    "        self.fc1 =  nn.Linear(8*8*8,32)\n",
    "        self.fc2 = nn.Linear(32,2)\n",
    "\n",
    "    def forward(self,x):\n",
    "        out = F.max_pool2d(torch.tanh(self.conv1(x)),2)\n",
    "        out = F.max_pool2d(torch.tanh(self.conv2(out)),2)\n",
    "        out = out.view(-1,8*8*8)\n",
    "        out = torch.tanh(self.fc1(out))\n",
    "        out = self.fc2(out)\n",
    "        return out"
   ],
   "metadata": {
    "collapsed": false
   }
  },
  {
   "cell_type": "code",
   "execution_count": 9,
   "outputs": [
    {
     "name": "stdout",
     "output_type": "stream",
     "text": [
      "18090 [432, 16, 1152, 8, 16384, 32, 64, 2]\n"
     ]
    }
   ],
   "source": [
    "model = Net()\n",
    "\n",
    "numel_list = [p.numel() for p in model.parameters()]\n",
    "print(sum(numel_list),numel_list)"
   ],
   "metadata": {
    "collapsed": false
   }
  },
  {
   "cell_type": "code",
   "execution_count": 13,
   "outputs": [],
   "source": [
    "import datetime\n",
    "\n",
    "def training_loop_gpu(n_epochs,model,optimizer,loss_fn,train_loader,val_loader):\n",
    "    for epoch in range(1,n_epochs+1):\n",
    "        loss_train=0.0\n",
    "        loss_val =0.0\n",
    "\n",
    "        for imgs,labels in train_loader:\n",
    "            imgs = imgs.to(device=device)\n",
    "            labels = labels.to(device=device)\n",
    "            outputs = model(imgs)\n",
    "            loss = loss_fn(outputs,labels)\n",
    "\n",
    "            optimizer.zero_grad()\n",
    "            loss.backward()\n",
    "            optimizer.step()\n",
    "            loss_train += loss.item()\n",
    "\n",
    "        optimizer.zero_grad()\n",
    "        for imgs_val,labels_val in val_loader:\n",
    "            imgs_val = imgs_val.to(device=device)\n",
    "            labels_val = labels_val.to(device= device)\n",
    "            outputs_val = model(imgs_val)\n",
    "            loss = loss_fn(outputs_val,labels_val)\n",
    "\n",
    "            loss_val += loss.item()\n",
    "\n",
    "        if epoch ==1 or epoch%10 ==0:\n",
    "            print('{}  Epoch:{}  Loss train:{}  Val loss:{}'.format(datetime.datetime.now(),epoch,loss_train/len(train_loader),loss_val/len(val_loader)))\n"
   ],
   "metadata": {
    "collapsed": false
   }
  },
  {
   "cell_type": "code",
   "execution_count": 11,
   "outputs": [
    {
     "name": "stdout",
     "output_type": "stream",
     "text": [
      "Training on device cuda\n"
     ]
    }
   ],
   "source": [
    "device = (torch.device('cuda') if torch.cuda.is_available() else torch.device('cpu'))\n",
    "print(f\"Training on device {device}\")"
   ],
   "metadata": {
    "collapsed": false
   }
  },
  {
   "cell_type": "code",
   "execution_count": 12,
   "outputs": [
    {
     "name": "stdout",
     "output_type": "stream",
     "text": [
      "2023-06-27 10:59:13.310930  Epoch:2  Loss train:0.5606666757802296  Val loss:0.48174979723989964\n",
      "2023-06-27 10:59:15.551796  Epoch:11  Loss train:0.33611617014286627  Val loss:0.33389222901314497\n",
      "2023-06-27 10:59:18.048039  Epoch:21  Loss train:0.2995045527720907  Val loss:0.33052949979901314\n",
      "2023-06-27 10:59:20.554094  Epoch:31  Loss train:0.27394585852410386  Val loss:0.31313083693385124\n",
      "2023-06-27 10:59:23.068774  Epoch:41  Loss train:0.24962039486427975  Val loss:0.2741107544861734\n",
      "2023-06-27 10:59:25.603272  Epoch:51  Loss train:0.22359255079630833  Val loss:0.2771421354264021\n",
      "2023-06-27 10:59:28.344768  Epoch:61  Loss train:0.205898967945272  Val loss:0.28140347357839346\n",
      "2023-06-27 10:59:30.696196  Epoch:71  Loss train:0.18642208331329807  Val loss:0.27881104685366154\n",
      "2023-06-27 10:59:33.164879  Epoch:81  Loss train:0.17853569111246972  Val loss:0.29058569204062223\n",
      "2023-06-27 10:59:35.582568  Epoch:91  Loss train:0.16088399886610402  Val loss:0.26365976594388485\n",
      "2023-06-27 10:59:38.026016  Epoch:101  Loss train:0.1486900231450986  Val loss:0.28846834250725806\n"
     ]
    }
   ],
   "source": [
    "model = Net()\n",
    "model = model.to(device=device)\n",
    "optimizer = optim.SGD(model.parameters(),lr=1e-2)\n",
    "loss_fn = nn.CrossEntropyLoss()\n",
    "\n",
    "train_loader = torch.utils.data.DataLoader(cifar2,batch_size=64,shuffle=True)\n",
    "val_loader = torch.utils.data.DataLoader(cifar2_val,batch_size = 64,shuffle=True)\n",
    "\n",
    "training_loop_gpu(n_epochs=100,model=model,optimizer=optimizer,loss_fn=loss_fn,train_loader=train_loader,val_loader=val_loader)"
   ],
   "metadata": {
    "collapsed": false
   }
  },
  {
   "cell_type": "code",
   "execution_count": 17,
   "outputs": [],
   "source": [
    "class Net(nn.Module):\n",
    "    def __init__(self):\n",
    "        super().__init__()\n",
    "        self.conv1 = nn.Conv2d(3,16,kernel_size=5,padding=2)\n",
    "        self.conv2 = nn.Conv2d(16,8,kernel_size=3,padding=1)\n",
    "        self.fc1 =  nn.Linear(8*8*8,32)\n",
    "        self.fc2 = nn.Linear(32,2)\n",
    "\n",
    "    def forward(self,x):\n",
    "        out = F.max_pool2d(torch.tanh(self.conv1(x)),2)\n",
    "        out = F.max_pool2d(torch.tanh(self.conv2(out)),2)\n",
    "        out = out.view(-1,8*8*8)\n",
    "        out = torch.tanh(self.fc1(out))\n",
    "        out = self.fc2(out)\n",
    "        return out"
   ],
   "metadata": {
    "collapsed": false
   }
  },
  {
   "cell_type": "code",
   "execution_count": 18,
   "outputs": [
    {
     "name": "stdout",
     "output_type": "stream",
     "text": [
      "18858 [1200, 16, 1152, 8, 16384, 32, 64, 2]\n"
     ]
    }
   ],
   "source": [
    "model = Net()\n",
    "\n",
    "numel_list = [p.numel() for p in model.parameters()]\n",
    "print(sum(numel_list),numel_list)"
   ],
   "metadata": {
    "collapsed": false
   }
  },
  {
   "cell_type": "code",
   "execution_count": 19,
   "outputs": [
    {
     "name": "stdout",
     "output_type": "stream",
     "text": [
      "2023-06-27 11:06:47.373630  Epoch:1  Loss train:0.5768503905481593  Val loss:0.4980163900181651\n",
      "2023-06-27 11:06:50.110050  Epoch:10  Loss train:0.32538754772988093  Val loss:0.3217166452668607\n",
      "2023-06-27 11:06:53.056384  Epoch:20  Loss train:0.2885088966150952  Val loss:0.330152902752161\n",
      "2023-06-27 11:06:55.752876  Epoch:30  Loss train:0.2654997815561902  Val loss:0.3057402675040066\n",
      "2023-06-27 11:06:58.432750  Epoch:40  Loss train:0.2449848030687897  Val loss:0.30388079211115837\n",
      "2023-06-27 11:07:01.131551  Epoch:50  Loss train:0.22501578435871253  Val loss:0.30546115012839437\n",
      "2023-06-27 11:07:03.846720  Epoch:60  Loss train:0.21018418437166578  Val loss:0.2751196031458676\n",
      "2023-06-27 11:07:06.564555  Epoch:70  Loss train:0.1936900867683113  Val loss:0.28276640037074685\n",
      "2023-06-27 11:07:09.362403  Epoch:80  Loss train:0.17565738950755186  Val loss:0.3022459000349045\n",
      "2023-06-27 11:07:12.097761  Epoch:90  Loss train:0.16157266115591784  Val loss:0.2710900856181979\n",
      "2023-06-27 11:07:14.818313  Epoch:100  Loss train:0.14956930531248167  Val loss:0.2937657532747835\n"
     ]
    }
   ],
   "source": [
    "model = Net()\n",
    "model = model.to(device=device)\n",
    "optimizer = optim.SGD(model.parameters(),lr=1e-2)\n",
    "loss_fn = nn.CrossEntropyLoss()\n",
    "\n",
    "train_loader = torch.utils.data.DataLoader(cifar2,batch_size=64,shuffle=True)\n",
    "val_loader = torch.utils.data.DataLoader(cifar2_val,batch_size = 64,shuffle=True)\n",
    "\n",
    "training_loop_gpu(n_epochs=100,model=model,optimizer=optimizer,loss_fn=loss_fn,train_loader=train_loader,val_loader=val_loader)"
   ],
   "metadata": {
    "collapsed": false
   }
  },
  {
   "cell_type": "code",
   "execution_count": 25,
   "outputs": [],
   "source": [
    "class Net(nn.Module):\n",
    "    def __init__(self):\n",
    "        super().__init__()\n",
    "        self.conv1 = nn.Conv2d(3,16,kernel_size=(3,1),padding=1)#32*32 -> 32*34\n",
    "        self.tanh1 = nn.Tanh()\n",
    "        self.maxpool1 = nn.MaxPool2d(2)#16*17\n",
    "        self.conv2 = nn.Conv2d(16,8,kernel_size=(3,1),padding=1) #16*19\n",
    "        self.tanh2 = nn.Tanh()\n",
    "        self.maxpool2 = nn.MaxPool2d(2) #8*9\n",
    "        self.fc1 = nn.Linear(8*8*9,32)\n",
    "        self.tanh3 = nn.Tanh()\n",
    "        self.fc2 = nn.Linear(32,2)\n",
    "\n",
    "    def forward(self,x):\n",
    "        out = self.maxpool1(self.tanh1(self.conv1(x)))\n",
    "        out = self.maxpool2(self.tanh2(self.conv2(out)))\n",
    "        out = out.view(-1,8*9*8)\n",
    "        out = self.tanh3(self.fc1(out))\n",
    "        out = self.fc2(out)\n",
    "        return out"
   ],
   "metadata": {
    "collapsed": false
   }
  },
  {
   "cell_type": "code",
   "execution_count": 26,
   "outputs": [
    {
     "name": "stdout",
     "output_type": "stream",
     "text": [
      "2023-06-27 11:28:35.525352  Epoch:1  Loss train:0.6564535403707225  Val loss:0.593817014247179\n",
      "2023-06-27 11:28:38.333285  Epoch:10  Loss train:0.3714986274576491  Val loss:0.3706735325977206\n",
      "2023-06-27 11:28:40.946539  Epoch:20  Loss train:0.3175392764009488  Val loss:0.329670743085444\n",
      "2023-06-27 11:28:43.374341  Epoch:30  Loss train:0.29643475544300807  Val loss:0.3425480271689594\n",
      "2023-06-27 11:28:45.853938  Epoch:40  Loss train:0.27766544817929056  Val loss:0.3068947782739997\n",
      "2023-06-27 11:28:48.400143  Epoch:50  Loss train:0.2628451426317737  Val loss:0.3146332479082048\n",
      "2023-06-27 11:28:50.811755  Epoch:60  Loss train:0.2503147942909769  Val loss:0.30217039259150624\n",
      "2023-06-27 11:28:53.202978  Epoch:70  Loss train:0.2405147137725429  Val loss:0.2870688480325043\n",
      "2023-06-27 11:28:55.608185  Epoch:80  Loss train:0.22999016480271223  Val loss:0.3112298958003521\n",
      "2023-06-27 11:28:58.011793  Epoch:90  Loss train:0.21874393100381656  Val loss:0.3003285499289632\n",
      "2023-06-27 11:29:00.461211  Epoch:100  Loss train:0.20772981221319003  Val loss:0.30419046618044376\n"
     ]
    }
   ],
   "source": [
    "model = Net()\n",
    "model = model.to(device=device)\n",
    "optimizer = optim.SGD(model.parameters(),lr=1e-2)\n",
    "loss_fn = nn.CrossEntropyLoss()\n",
    "\n",
    "train_loader = torch.utils.data.DataLoader(cifar2,batch_size=64,shuffle=True)\n",
    "val_loader = torch.utils.data.DataLoader(cifar2_val,batch_size = 64,shuffle=True)\n",
    "\n",
    "training_loop_gpu(n_epochs=100,model=model,optimizer=optimizer,loss_fn=loss_fn,train_loader=train_loader,val_loader=val_loader)"
   ],
   "metadata": {
    "collapsed": false
   }
  },
  {
   "cell_type": "code",
   "execution_count": 27,
   "outputs": [],
   "source": [
    "class Net(nn.Module):\n",
    "    def __init__(self):\n",
    "        super().__init__()\n",
    "        self.conv1 = nn.Conv2d(3,16,kernel_size=(3,3),padding=1)\n",
    "        self.tanh1 = nn.Tanh()\n",
    "        self.maxpool1 = nn.MaxPool2d(2)#16*17\n",
    "        self.conv2 = nn.Conv2d(16,8,kernel_size=(3,3),padding=1)\n",
    "        self.tanh2 = nn.Tanh()\n",
    "        self.maxpool2 = nn.MaxPool2d(2)\n",
    "        self.fc1 = nn.Linear(8*8*8,32)\n",
    "        self.tanh3 = nn.Tanh()\n",
    "        self.fc2 = nn.Linear(32,2)\n",
    "\n",
    "    def forward(self,x):\n",
    "        out = self.maxpool1(self.tanh1(self.conv1(x)))\n",
    "        out = self.maxpool2(self.tanh2(self.conv2(out)))\n",
    "        out = out.view(-1,8*8*8)\n",
    "        out = self.tanh3(self.fc1(out))\n",
    "        out = self.fc2(out)\n",
    "        return out"
   ],
   "metadata": {
    "collapsed": false
   }
  },
  {
   "cell_type": "code",
   "execution_count": 28,
   "outputs": [],
   "source": [
    "cifar_out = [(img,label) for img,label in cifar10 if label not in [0,2]]"
   ],
   "metadata": {
    "collapsed": false
   }
  },
  {
   "cell_type": "code",
   "execution_count": 30,
   "outputs": [
    {
     "name": "stdout",
     "output_type": "stream",
     "text": [
      "progression 0\n",
      "0 6 tensor([[0.1950, 0.8050]], device='cuda:0', grad_fn=<SoftmaxBackward0>)\n"
     ]
    }
   ],
   "source": [
    "for i,(img,label) in enumerate(cifar_out):\n",
    "    if i% 100 == 0 :print('progression',i)\n",
    "    img = img.unsqueeze(0).to(device=device)\n",
    "    m = nn.Softmax(dim=1).to(device=device)\n",
    "    prediction = m(model(img))\n",
    "\n",
    "    if prediction[0][0]>0.95 or prediction[0][0]<0.5:\n",
    "        print(i,label,prediction)\n",
    "        break"
   ],
   "metadata": {
    "collapsed": false
   }
  },
  {
   "cell_type": "code",
   "execution_count": null,
   "outputs": [],
   "source": [],
   "metadata": {
    "collapsed": false
   }
  }
 ],
 "metadata": {
  "kernelspec": {
   "display_name": "Python 3",
   "language": "python",
   "name": "python3"
  },
  "language_info": {
   "codemirror_mode": {
    "name": "ipython",
    "version": 2
   },
   "file_extension": ".py",
   "mimetype": "text/x-python",
   "name": "python",
   "nbconvert_exporter": "python",
   "pygments_lexer": "ipython2",
   "version": "2.7.6"
  }
 },
 "nbformat": 4,
 "nbformat_minor": 0
}
