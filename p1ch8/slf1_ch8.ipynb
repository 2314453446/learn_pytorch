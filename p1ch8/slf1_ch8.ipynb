{
 "cells": [
  {
   "cell_type": "code",
   "execution_count": 1,
   "outputs": [
    {
     "data": {
      "text/plain": "<torch._C.Generator at 0x7fe1013a5f30>"
     },
     "execution_count": 1,
     "metadata": {},
     "output_type": "execute_result"
    }
   ],
   "source": [
    "%matplotlib inline\n",
    "from matplotlib import pyplot as plt\n",
    "import numpy as np\n",
    "import collections\n",
    "\n",
    "import torch\n",
    "import torch.nn as nn\n",
    "import torch.nn.functional as F\n",
    "import torch.optim as optim\n",
    "\n",
    "torch.set_printoptions(edgeitems=2)\n",
    "torch.manual_seed(123)"
   ],
   "metadata": {
    "collapsed": false
   }
  },
  {
   "cell_type": "code",
   "execution_count": 2,
   "outputs": [],
   "source": [
    "class_names = ['airplane','automobile','bird','cat','deer',\n",
    "               'dog','frog','horse','ship','truck']"
   ],
   "metadata": {
    "collapsed": false
   }
  },
  {
   "cell_type": "code",
   "execution_count": 3,
   "outputs": [
    {
     "name": "stdout",
     "output_type": "stream",
     "text": [
      "Files already downloaded and verified\n"
     ]
    }
   ],
   "source": [
    "from torchvision import datasets, transforms\n",
    "data_path = '../data_unversioned/p1ch7/'\n",
    "cifar10 = datasets.CIFAR10(\n",
    "    data_path,train=True,download=True,\n",
    "    transform=transforms.Compose([\n",
    "        transforms.ToTensor(),\n",
    "        transforms.Normalize((0.4915,0.4823,0.4468),\n",
    "                             (0.2470,0.2435,0.2616))\n",
    "    ])\n",
    ")"
   ],
   "metadata": {
    "collapsed": false
   }
  },
  {
   "cell_type": "code",
   "execution_count": 4,
   "outputs": [
    {
     "name": "stdout",
     "output_type": "stream",
     "text": [
      "Files already downloaded and verified\n"
     ]
    }
   ],
   "source": [
    "cifar10_val = datasets.CIFAR10(\n",
    "    data_path,train=False,download=True,\n",
    "    transform=transforms.Compose([\n",
    "        transforms.ToTensor(),\n",
    "        transforms.Normalize((0.4915,0.4823,0.4468),\n",
    "                             (0.2470,0.2435,0.2616))\n",
    "    ])\n",
    ")"
   ],
   "metadata": {
    "collapsed": false
   }
  },
  {
   "cell_type": "code",
   "execution_count": 51,
   "outputs": [],
   "source": [
    "label_map = {0:0,2:1}\n",
    "class_names = ['airplane','bird']\n",
    "cifar2 = [(img,label_map[label]) for img,label in cifar10 if label in [0,2]]\n",
    "cifar2_val = [(img,label_map[label]) for img,label in cifar10_val if label in [0,2]]"
   ],
   "metadata": {
    "collapsed": false
   }
  },
  {
   "cell_type": "code",
   "execution_count": 6,
   "outputs": [
    {
     "data": {
      "text/plain": "(3737474, [3145728, 1024, 524288, 512, 65536, 128, 256, 2])"
     },
     "execution_count": 6,
     "metadata": {},
     "output_type": "execute_result"
    }
   ],
   "source": [
    "connected_model = nn.Sequential(nn.Linear(3072,1024),\n",
    "                                nn.Tanh(),\n",
    "                                nn.Linear(1024,512),\n",
    "                                nn.Tanh(),\n",
    "                                nn.Linear(512,128),\n",
    "                                nn.Tanh(),\n",
    "                                nn.Linear(128,2))\n",
    "\n",
    "numel_list = [p.numel() for p in connected_model.parameters()\n",
    "              if p.requires_grad == True]\n",
    "sum(numel_list),numel_list\n",
    "# connected_model.parameters()中包含所有可训练的参数张量，这些张量由模型的各个层的权重和偏置组成\n",
    "# if p.requires_grad == True 用于过滤激活层nn.Tanh()\n",
    "# 猜测：在.parameters中的权重分布 torch.tensor[[weight][bias][weight][bias]...]"
   ],
   "metadata": {
    "collapsed": false
   }
  },
  {
   "cell_type": "code",
   "execution_count": 7,
   "outputs": [
    {
     "data": {
      "text/plain": "(1574402, [1572864, 512, 1024, 2])"
     },
     "execution_count": 7,
     "metadata": {},
     "output_type": "execute_result"
    }
   ],
   "source": [
    "first_model = nn.Sequential(nn.Linear(3072,512),\n",
    "                            nn.Tanh(),\n",
    "                            nn.Linear(512,2),\n",
    "                            nn.LogSoftmax(dim=1))\n",
    "\n",
    "numel_list = [p.numel() for p in first_model.parameters()]\n",
    "sum(numel_list),numel_list"
   ],
   "metadata": {
    "collapsed": false
   }
  },
  {
   "cell_type": "code",
   "execution_count": 8,
   "outputs": [
    {
     "data": {
      "text/plain": "Conv2d(3, 16, kernel_size=(3, 3), stride=(1, 1))"
     },
     "execution_count": 8,
     "metadata": {},
     "output_type": "execute_result"
    }
   ],
   "source": [
    "conv =nn.Conv2d(3,16,kernel_size=3)\n",
    "conv"
   ],
   "metadata": {
    "collapsed": false
   }
  },
  {
   "cell_type": "code",
   "execution_count": 9,
   "outputs": [
    {
     "data": {
      "text/plain": "(torch.Size([16, 3, 3, 3]), torch.Size([16]))"
     },
     "execution_count": 9,
     "metadata": {},
     "output_type": "execute_result"
    }
   ],
   "source": [
    "conv.weight.shape , conv.bias.shape"
   ],
   "metadata": {
    "collapsed": false
   }
  },
  {
   "cell_type": "code",
   "execution_count": 10,
   "outputs": [
    {
     "data": {
      "text/plain": "(torch.Size([3, 32, 32]),\n torch.Size([1, 3, 32, 32]),\n torch.Size([1, 16, 30, 30]))"
     },
     "execution_count": 10,
     "metadata": {},
     "output_type": "execute_result"
    }
   ],
   "source": [
    "img,_ =  cifar2[0]\n",
    "output = conv(img.unsqueeze(0)) #unsqueeze(0) 增加batch維度\n",
    "img.shape, img.unsqueeze(0).shape,output.shape"
   ],
   "metadata": {
    "collapsed": false
   }
  },
  {
   "cell_type": "code",
   "execution_count": 11,
   "outputs": [
    {
     "data": {
      "text/plain": "<Figure size 1000x480 with 2 Axes>",
      "image/png": "[encoded data removed]"
     },
     "metadata": {},
     "output_type": "display_data"
    }
   ],
   "source": [
    "plt.figure(figsize=(10,4.8))\n",
    "ax1 = plt.subplot(1,2,1)\n",
    "plt.title('output')\n",
    "plt.imshow(output[0,0].detach(),cmap='gray')\n",
    "plt.subplot(1,2,2,sharex=ax1,sharey=ax1)\n",
    "plt.imshow(img.mean(0),cmap='gray')\n",
    "plt.title('input')\n",
    "plt.savefig('Ch8_F2_Pytorch.png')\n",
    "plt.show()"
   ],
   "metadata": {
    "collapsed": false
   }
  },
  {
   "cell_type": "code",
   "execution_count": 12,
   "outputs": [
    {
     "data": {
      "text/plain": "(torch.Size([1, 3, 32, 32]), torch.Size([1, 16, 32, 32]))"
     },
     "execution_count": 12,
     "metadata": {},
     "output_type": "execute_result"
    }
   ],
   "source": [
    "conv = nn.Conv2d(3,16,kernel_size=(3,3),padding=1)\n",
    "output = conv(img.unsqueeze(0))\n",
    "img.unsqueeze(0).shape, output.shape"
   ],
   "metadata": {
    "collapsed": false
   }
  },
  {
   "cell_type": "code",
   "execution_count": 13,
   "outputs": [],
   "source": [
    "with torch.no_grad():\n",
    "    conv.bias.zero_()\n",
    "\n",
    "with torch.no_grad():\n",
    "    conv.weight.fill_(1.0/9.0)"
   ],
   "metadata": {
    "collapsed": false
   }
  },
  {
   "cell_type": "code",
   "execution_count": 14,
   "outputs": [
    {
     "data": {
      "text/plain": "<Figure size 1000x480 with 2 Axes>",
      "image/png": "[encoded data removed]"
     },
     "metadata": {},
     "output_type": "display_data"
    }
   ],
   "source": [
    "output = conv(img.unsqueeze(0))\n",
    "plt.figure(figsize=(10,4.8))\n",
    "ax1 = plt.subplot(1,2,1)\n",
    "plt.title('output')\n",
    "plt.imshow(output[0][0].detach(),cmap='gray')\n",
    "plt.subplot(1,2,2, sharex = ax1,sharey=ax1)\n",
    "plt.imshow(img.mean(0),cmap='gray')\n",
    "plt.title('input')\n",
    "plt.savefig('Ch8_F2_Pytorch.png')\n",
    "plt.show()"
   ],
   "metadata": {
    "collapsed": false
   }
  },
  {
   "cell_type": "code",
   "execution_count": 15,
   "outputs": [
    {
     "data": {
      "text/plain": "<Figure size 1000x480 with 2 Axes>",
      "image/png": "[encoded data removed]"
     },
     "metadata": {},
     "output_type": "display_data"
    }
   ],
   "source": [
    "with torch.no_grad():\n",
    "    conv.weight[:]= torch.tensor([[-1.0,0.0,1.0],\n",
    "                                  [-1.0,0.0,1.0],\n",
    "                                  [-1.0,0.0,1.0]])\n",
    "    conv.bias.zero_()\n",
    "\n",
    "output = conv(img.unsqueeze(0))\n",
    "plt.figure(figsize=(10,4.8))\n",
    "ax1 = plt.subplot(1,2,1)\n",
    "plt.title('output')\n",
    "plt.imshow(output[0,0].detach(),cmap='gray')\n",
    "plt.subplot(1,2,2,sharex=ax1,sharey=ax1)\n",
    "plt.imshow(img.mean(0),cmap='gray') #img.mean(0) 沿着0维方向计算均值\n",
    "plt.title('input')\n",
    "plt.savefig('Ch8_F5_PyTorch.png')\n",
    "plt.show()"
   ],
   "metadata": {
    "collapsed": false
   }
  },
  {
   "cell_type": "code",
   "execution_count": 16,
   "outputs": [],
   "source": [
    "model = nn.Sequential(\n",
    "    nn.Conv2d(3,16,kernel_size=(3,3),padding=1),#[1,16,32,32]\n",
    "    nn.Tanh(),\n",
    "    nn.MaxPool2d(2), #[1,16,16,16]\n",
    "    nn.Conv2d(16,8,kernel_size=3,padding=1),#[1,8,16,16]\n",
    "    nn.Tanh(),\n",
    "    nn.MaxPool2d(2),#[1,8,8,8]\n",
    "    #...这里需要一个层将上层四维参数打平成单维，用来衔接线性层\n",
    "    nn.Linear(8*8*8,32),\n",
    "    nn.Tanh(),\n",
    "    nn.Linear(32,2)\n",
    ")"
   ],
   "metadata": {
    "collapsed": false
   }
  },
  {
   "cell_type": "code",
   "execution_count": 17,
   "outputs": [
    {
     "data": {
      "text/plain": "(18090, [432, 16, 1152, 8, 16384, 32, 64, 2])"
     },
     "execution_count": 17,
     "metadata": {},
     "output_type": "execute_result"
    }
   ],
   "source": [
    "numel_list = [p.numel() for p in model.parameters()]\n",
    "sum(numel_list),numel_list"
   ],
   "metadata": {
    "collapsed": false
   }
  },
  {
   "cell_type": "code",
   "execution_count": 18,
   "outputs": [
    {
     "ename": "RuntimeError",
     "evalue": "mat1 and mat2 shapes cannot be multiplied (64x8 and 512x32)",
     "output_type": "error",
     "traceback": [
      "\u001B[0;31m---------------------------------------------------------------------------\u001B[0m",
      "\u001B[0;31mRuntimeError\u001B[0m                              Traceback (most recent call last)",
      "Cell \u001B[0;32mIn [18], line 1\u001B[0m\n\u001B[0;32m----> 1\u001B[0m \u001B[43mmodel\u001B[49m\u001B[43m(\u001B[49m\u001B[43mimg\u001B[49m\u001B[38;5;241;43m.\u001B[39;49m\u001B[43munsqueeze\u001B[49m\u001B[43m(\u001B[49m\u001B[38;5;241;43m0\u001B[39;49m\u001B[43m)\u001B[49m\u001B[43m)\u001B[49m\n",
      "File \u001B[0;32m~/anaconda3/envs/yolov7/lib/python3.8/site-packages/torch/nn/modules/module.py:1130\u001B[0m, in \u001B[0;36mModule._call_impl\u001B[0;34m(self, *input, **kwargs)\u001B[0m\n\u001B[1;32m   1126\u001B[0m \u001B[38;5;66;03m# If we don't have any hooks, we want to skip the rest of the logic in\u001B[39;00m\n\u001B[1;32m   1127\u001B[0m \u001B[38;5;66;03m# this function, and just call forward.\u001B[39;00m\n\u001B[1;32m   1128\u001B[0m \u001B[38;5;28;01mif\u001B[39;00m \u001B[38;5;129;01mnot\u001B[39;00m (\u001B[38;5;28mself\u001B[39m\u001B[38;5;241m.\u001B[39m_backward_hooks \u001B[38;5;129;01mor\u001B[39;00m \u001B[38;5;28mself\u001B[39m\u001B[38;5;241m.\u001B[39m_forward_hooks \u001B[38;5;129;01mor\u001B[39;00m \u001B[38;5;28mself\u001B[39m\u001B[38;5;241m.\u001B[39m_forward_pre_hooks \u001B[38;5;129;01mor\u001B[39;00m _global_backward_hooks\n\u001B[1;32m   1129\u001B[0m         \u001B[38;5;129;01mor\u001B[39;00m _global_forward_hooks \u001B[38;5;129;01mor\u001B[39;00m _global_forward_pre_hooks):\n\u001B[0;32m-> 1130\u001B[0m     \u001B[38;5;28;01mreturn\u001B[39;00m \u001B[43mforward_call\u001B[49m\u001B[43m(\u001B[49m\u001B[38;5;241;43m*\u001B[39;49m\u001B[38;5;28;43minput\u001B[39;49m\u001B[43m,\u001B[49m\u001B[43m \u001B[49m\u001B[38;5;241;43m*\u001B[39;49m\u001B[38;5;241;43m*\u001B[39;49m\u001B[43mkwargs\u001B[49m\u001B[43m)\u001B[49m\n\u001B[1;32m   1131\u001B[0m \u001B[38;5;66;03m# Do not call functions when jit is used\u001B[39;00m\n\u001B[1;32m   1132\u001B[0m full_backward_hooks, non_full_backward_hooks \u001B[38;5;241m=\u001B[39m [], []\n",
      "File \u001B[0;32m~/anaconda3/envs/yolov7/lib/python3.8/site-packages/torch/nn/modules/container.py:139\u001B[0m, in \u001B[0;36mSequential.forward\u001B[0;34m(self, input)\u001B[0m\n\u001B[1;32m    137\u001B[0m \u001B[38;5;28;01mdef\u001B[39;00m \u001B[38;5;21mforward\u001B[39m(\u001B[38;5;28mself\u001B[39m, \u001B[38;5;28minput\u001B[39m):\n\u001B[1;32m    138\u001B[0m     \u001B[38;5;28;01mfor\u001B[39;00m module \u001B[38;5;129;01min\u001B[39;00m \u001B[38;5;28mself\u001B[39m:\n\u001B[0;32m--> 139\u001B[0m         \u001B[38;5;28minput\u001B[39m \u001B[38;5;241m=\u001B[39m \u001B[43mmodule\u001B[49m\u001B[43m(\u001B[49m\u001B[38;5;28;43minput\u001B[39;49m\u001B[43m)\u001B[49m\n\u001B[1;32m    140\u001B[0m     \u001B[38;5;28;01mreturn\u001B[39;00m \u001B[38;5;28minput\u001B[39m\n",
      "File \u001B[0;32m~/anaconda3/envs/yolov7/lib/python3.8/site-packages/torch/nn/modules/module.py:1130\u001B[0m, in \u001B[0;36mModule._call_impl\u001B[0;34m(self, *input, **kwargs)\u001B[0m\n\u001B[1;32m   1126\u001B[0m \u001B[38;5;66;03m# If we don't have any hooks, we want to skip the rest of the logic in\u001B[39;00m\n\u001B[1;32m   1127\u001B[0m \u001B[38;5;66;03m# this function, and just call forward.\u001B[39;00m\n\u001B[1;32m   1128\u001B[0m \u001B[38;5;28;01mif\u001B[39;00m \u001B[38;5;129;01mnot\u001B[39;00m (\u001B[38;5;28mself\u001B[39m\u001B[38;5;241m.\u001B[39m_backward_hooks \u001B[38;5;129;01mor\u001B[39;00m \u001B[38;5;28mself\u001B[39m\u001B[38;5;241m.\u001B[39m_forward_hooks \u001B[38;5;129;01mor\u001B[39;00m \u001B[38;5;28mself\u001B[39m\u001B[38;5;241m.\u001B[39m_forward_pre_hooks \u001B[38;5;129;01mor\u001B[39;00m _global_backward_hooks\n\u001B[1;32m   1129\u001B[0m         \u001B[38;5;129;01mor\u001B[39;00m _global_forward_hooks \u001B[38;5;129;01mor\u001B[39;00m _global_forward_pre_hooks):\n\u001B[0;32m-> 1130\u001B[0m     \u001B[38;5;28;01mreturn\u001B[39;00m \u001B[43mforward_call\u001B[49m\u001B[43m(\u001B[49m\u001B[38;5;241;43m*\u001B[39;49m\u001B[38;5;28;43minput\u001B[39;49m\u001B[43m,\u001B[49m\u001B[43m \u001B[49m\u001B[38;5;241;43m*\u001B[39;49m\u001B[38;5;241;43m*\u001B[39;49m\u001B[43mkwargs\u001B[49m\u001B[43m)\u001B[49m\n\u001B[1;32m   1131\u001B[0m \u001B[38;5;66;03m# Do not call functions when jit is used\u001B[39;00m\n\u001B[1;32m   1132\u001B[0m full_backward_hooks, non_full_backward_hooks \u001B[38;5;241m=\u001B[39m [], []\n",
      "File \u001B[0;32m~/anaconda3/envs/yolov7/lib/python3.8/site-packages/torch/nn/modules/linear.py:114\u001B[0m, in \u001B[0;36mLinear.forward\u001B[0;34m(self, input)\u001B[0m\n\u001B[1;32m    113\u001B[0m \u001B[38;5;28;01mdef\u001B[39;00m \u001B[38;5;21mforward\u001B[39m(\u001B[38;5;28mself\u001B[39m, \u001B[38;5;28minput\u001B[39m: Tensor) \u001B[38;5;241m-\u001B[39m\u001B[38;5;241m>\u001B[39m Tensor:\n\u001B[0;32m--> 114\u001B[0m     \u001B[38;5;28;01mreturn\u001B[39;00m \u001B[43mF\u001B[49m\u001B[38;5;241;43m.\u001B[39;49m\u001B[43mlinear\u001B[49m\u001B[43m(\u001B[49m\u001B[38;5;28;43minput\u001B[39;49m\u001B[43m,\u001B[49m\u001B[43m \u001B[49m\u001B[38;5;28;43mself\u001B[39;49m\u001B[38;5;241;43m.\u001B[39;49m\u001B[43mweight\u001B[49m\u001B[43m,\u001B[49m\u001B[43m \u001B[49m\u001B[38;5;28;43mself\u001B[39;49m\u001B[38;5;241;43m.\u001B[39;49m\u001B[43mbias\u001B[49m\u001B[43m)\u001B[49m\n",
      "\u001B[0;31mRuntimeError\u001B[0m: mat1 and mat2 shapes cannot be multiplied (64x8 and 512x32)"
     ]
    }
   ],
   "source": [
    "model(img.unsqueeze(0))"
   ],
   "metadata": {
    "collapsed": false
   }
  },
  {
   "cell_type": "code",
   "execution_count": 19,
   "outputs": [],
   "source": [
    "class Net(nn.Module):\n",
    "    def __init__(self):\n",
    "        super().__init__()\n",
    "        self.conv1 = nn.Conv2d(3,16,kernel_size=3,padding=1)\n",
    "        self.act1 = nn.Tanh()\n",
    "        self.pool1 = nn.MaxPool2d(2)\n",
    "        self.conv2 = nn.Conv2d(16,8,kernel_size=(3,3),padding=1)\n",
    "        self.act2 = nn.Tanh()\n",
    "        self.pool2 = nn.MaxPool2d(2)\n",
    "        self.fc1=nn.Linear(8*8*8,32)\n",
    "        self.act3 = nn.Tanh()\n",
    "        self.fc2 = nn.Linear(32,2)\n",
    "\n",
    "    def forward(self,x):\n",
    "        out = self.conv1(x)\n",
    "        out = self.act1(out)\n",
    "        out = self.pool1(out)\n",
    "        out = self.conv2(out)\n",
    "        out = self.act2(out)\n",
    "        out = self.pool2(out)\n",
    "        out = out.view(out.shape[0],-1)\n",
    "        #-1表示自动推断该维度的大小 这里也可以写成 out=out.view(-1,8*8*8)\n",
    "        out = self.act3(self.fc1(out))\n",
    "        out = self.fc2(out)\n",
    "        return out\n"
   ],
   "metadata": {
    "collapsed": false
   }
  },
  {
   "cell_type": "code",
   "execution_count": 20,
   "outputs": [
    {
     "data": {
      "text/plain": "Net(\n  (conv1): Conv2d(3, 16, kernel_size=(3, 3), stride=(1, 1), padding=(1, 1))\n  (act1): Tanh()\n  (pool1): MaxPool2d(kernel_size=2, stride=2, padding=0, dilation=1, ceil_mode=False)\n  (conv2): Conv2d(16, 8, kernel_size=(3, 3), stride=(1, 1), padding=(1, 1))\n  (act2): Tanh()\n  (pool2): MaxPool2d(kernel_size=2, stride=2, padding=0, dilation=1, ceil_mode=False)\n  (fc1): Linear(in_features=512, out_features=32, bias=True)\n  (act3): Tanh()\n  (fc2): Linear(in_features=32, out_features=2, bias=True)\n)"
     },
     "execution_count": 20,
     "metadata": {},
     "output_type": "execute_result"
    }
   ],
   "source": [
    "model = Net()\n",
    "model"
   ],
   "metadata": {
    "collapsed": false
   }
  },
  {
   "cell_type": "code",
   "execution_count": 21,
   "outputs": [
    {
     "data": {
      "text/plain": "tensor([[0.1664, 0.1527]], grad_fn=<AddmmBackward0>)"
     },
     "execution_count": 21,
     "metadata": {},
     "output_type": "execute_result"
    }
   ],
   "source": [
    "model(img.unsqueeze(0))"
   ],
   "metadata": {
    "collapsed": false
   }
  },
  {
   "cell_type": "code",
   "execution_count": 52,
   "outputs": [],
   "source": [
    "import torch.nn.functional as F\n",
    "\n",
    "class Net(nn.Module):\n",
    "    def __init__(self):\n",
    "        super().__init__()\n",
    "        self.conv1 = nn.Conv2d(3,16,kernel_size=(3,3),padding=1)\n",
    "        self.conv2 = nn.Conv2d(16,8,kernel_size=(3,3),padding=1)\n",
    "        self.fc1 = nn.Linear(8*8*8,32)\n",
    "        self.fc2 = nn.Linear(32,2)\n",
    "\n",
    "    def forward(self,x):\n",
    "        out = F.max_pool2d(torch.tanh(self.conv1(x)),2)\n",
    "        out = F.max_pool2d(torch.tanh(self.conv2(out)),2)\n",
    "        out = out.view(-1,8*8*8)\n",
    "        out = torch.tanh(self.fc1(out))\n",
    "        out = self.fc2(out)\n",
    "        return out"
   ],
   "metadata": {
    "collapsed": false
   }
  },
  {
   "cell_type": "code",
   "execution_count": 53,
   "outputs": [
    {
     "data": {
      "text/plain": "Net(\n  (conv1): Conv2d(3, 16, kernel_size=(3, 3), stride=(1, 1), padding=(1, 1))\n  (conv2): Conv2d(16, 8, kernel_size=(3, 3), stride=(1, 1), padding=(1, 1))\n  (fc1): Linear(in_features=512, out_features=32, bias=True)\n  (fc2): Linear(in_features=32, out_features=2, bias=True)\n)"
     },
     "execution_count": 53,
     "metadata": {},
     "output_type": "execute_result"
    }
   ],
   "source": [
    "model = Net()\n",
    "model"
   ],
   "metadata": {
    "collapsed": false
   }
  },
  {
   "cell_type": "code",
   "execution_count": 54,
   "outputs": [
    {
     "data": {
      "text/plain": "tensor([[0.1483, 0.1197]], grad_fn=<AddmmBackward0>)"
     },
     "execution_count": 54,
     "metadata": {},
     "output_type": "execute_result"
    }
   ],
   "source": [
    "model(img.unsqueeze(0))"
   ],
   "metadata": {
    "collapsed": false
   }
  },
  {
   "cell_type": "code",
   "execution_count": 55,
   "outputs": [
    {
     "name": "stdout",
     "output_type": "stream",
     "text": [
      "Training on device cuda\n"
     ]
    }
   ],
   "source": [
    "device = torch.device('cuda') if torch.cuda.is_available() else torch.device('cpu')\n",
    "print(f'Training on device {device}')"
   ],
   "metadata": {
    "collapsed": false
   }
  },
  {
   "cell_type": "code",
   "execution_count": 56,
   "outputs": [],
   "source": [
    "import datetime"
   ],
   "metadata": {
    "collapsed": false
   }
  },
  {
   "cell_type": "code",
   "execution_count": 57,
   "outputs": [],
   "source": [
    "def training_loop_cpu(n_epochs, optimizer, model, loss_fn, train_loader, val_loader):\n",
    "    for epoch in range(n_epochs):\n",
    "        loss_train = 0.0\n",
    "        loss_val = 0.0\n",
    "        for imgs, labels in train_loader:\n",
    "            outputs = model(imgs)\n",
    "            loss = loss_fn(outputs,labels)\n",
    "\n",
    "            optimizer.zero_grad()\n",
    "            loss.backward()\n",
    "            optimizer.step()\n",
    "\n",
    "            loss_train += loss.item()\n",
    "\n",
    "        optimizer.zero_grad()\n",
    "        for imgs_val,labels_val in val_loader:\n",
    "            outputs = model(imgs_val)\n",
    "            loss_batch_val = loss_fn(outputs,labels_val)\n",
    "            loss_val += loss_batch_val.item()\n",
    "\n",
    "        if epoch == 1 or (epoch+1) %10 == 0:\n",
    "            print('{} Epoch{},Training loss {}, val loss{}'.format(datetime.datetime.now(),epoch,loss_train/len(train_loader),loss_val/(len(val_loader))))"
   ],
   "metadata": {
    "collapsed": false
   }
  },
  {
   "cell_type": "code",
   "execution_count": 58,
   "outputs": [],
   "source": [
    "train_loader = torch.utils.data.DataLoader(cifar2,batch_size=64,shuffle=True)\n",
    "val_loader = torch.utils.data.DataLoader(cifar2_val,batch_size=64,shuffle=False)\n",
    "\n",
    "model=Net()\n",
    "\n",
    "optimizer = optim.SGD(model.parameters(),lr=1e-2)\n",
    "loss_fn = nn.CrossEntropyLoss()"
   ],
   "metadata": {
    "collapsed": false
   }
  },
  {
   "cell_type": "code",
   "execution_count": 59,
   "outputs": [
    {
     "name": "stdout",
     "output_type": "stream",
     "text": [
      "2023-06-26 10:01:39.936910 Epoch1,Training loss 0.48501660736503116, val loss0.4591739708557725\n",
      "2023-06-26 10:01:50.408595 Epoch9,Training loss 0.327931498551065, val loss0.3399633765220642\n",
      "2023-06-26 10:02:03.664721 Epoch19,Training loss 0.28334893713331527, val loss0.3011391689069569\n",
      "2023-06-26 10:02:16.565171 Epoch29,Training loss 0.25653890178651567, val loss0.2948869480751455\n",
      "2023-06-26 10:02:28.776795 Epoch39,Training loss 0.2352529077488146, val loss0.3123261774890125\n",
      "2023-06-26 10:02:41.811721 Epoch49,Training loss 0.22193980572899435, val loss0.29439591243863106\n",
      "2023-06-26 10:02:55.481630 Epoch59,Training loss 0.20741224179791798, val loss0.37345696752890944\n",
      "2023-06-26 10:03:09.132811 Epoch69,Training loss 0.19400826125008286, val loss0.2753194672986865\n",
      "2023-06-26 10:03:22.628031 Epoch79,Training loss 0.18241068675734434, val loss0.2773907692171633\n",
      "2023-06-26 10:03:36.029236 Epoch89,Training loss 0.17067086421380376, val loss0.28629946522414684\n",
      "2023-06-26 10:03:48.456704 Epoch99,Training loss 0.1614615445019333, val loss0.375508941244334\n"
     ]
    }
   ],
   "source": [
    "training_loop_cpu(\n",
    "    n_epochs=100,\n",
    "    optimizer = optimizer,\n",
    "    model = model,\n",
    "    loss_fn=loss_fn,\n",
    "    train_loader = train_loader,\n",
    "    val_loader= val_loader\n",
    ")"
   ],
   "metadata": {
    "collapsed": false
   }
  },
  {
   "cell_type": "code",
   "execution_count": 62,
   "outputs": [],
   "source": [
    "def training_loop_gpu(n_epochs, optimizer, model, loss_fn, train_loader, val_loader):\n",
    "    for epoch in range(n_epochs):\n",
    "        loss_train = 0.0\n",
    "        loss_val = 0.0\n",
    "        for imgs, labels in train_loader:\n",
    "            imgs = imgs.to(device=device)\n",
    "            labels = labels.to(device=device)\n",
    "            outputs = model(imgs)\n",
    "            loss = loss_fn(outputs,labels)\n",
    "\n",
    "            optimizer.zero_grad()\n",
    "            loss.backward()\n",
    "            optimizer.step()\n",
    "\n",
    "            loss_train += loss.item()\n",
    "\n",
    "        optimizer.zero_grad()\n",
    "        for imgs_val,labels_val in val_loader:\n",
    "            imgs_val = imgs_val.to(device=device)\n",
    "            labels_val = labels_val.to(device=device)\n",
    "            outputs = model(imgs_val)\n",
    "            loss_batch_val = loss_fn(outputs,labels_val)\n",
    "            loss_val += loss_batch_val.item()\n",
    "\n",
    "        if epoch == 1 or (epoch+1) %10 == 0:\n",
    "            print('{}  Epoch{},Training loss {}, val loss{}'.format(datetime.datetime.now(),epoch,loss_train/len(train_loader),loss_val/(len(val_loader))))"
   ],
   "metadata": {
    "collapsed": false
   }
  },
  {
   "cell_type": "code",
   "execution_count": 63,
   "outputs": [],
   "source": [
    "model = Net()\n",
    "model =model.to(device = device)\n",
    "optimizer = optim.SGD(model.parameters(),lr=1e-2)\n",
    "loss_fn = nn.CrossEntropyLoss()"
   ],
   "metadata": {
    "collapsed": false
   }
  },
  {
   "cell_type": "code",
   "execution_count": 65,
   "outputs": [
    {
     "name": "stdout",
     "output_type": "stream",
     "text": [
      "2023-06-26 10:14:35.772697  Epoch1,Training loss 0.48252514365372384, val loss0.4548346996307373\n",
      "2023-06-26 10:14:38.939090  Epoch9,Training loss 0.3238953174489319, val loss0.33637560484930873\n",
      "2023-06-26 10:14:42.917543  Epoch19,Training loss 0.28999276582602485, val loss0.3150920467451215\n",
      "2023-06-26 10:14:46.904108  Epoch29,Training loss 0.2655253161670296, val loss0.31056933430954814\n",
      "2023-06-26 10:14:50.820369  Epoch39,Training loss 0.23997758210274825, val loss0.2801030962727964\n",
      "2023-06-26 10:14:54.696023  Epoch49,Training loss 0.22323751563479186, val loss0.27688454277813435\n",
      "2023-06-26 10:14:58.696031  Epoch59,Training loss 0.2068607658147812, val loss0.2629887054208666\n",
      "2023-06-26 10:15:02.661957  Epoch69,Training loss 0.18934386071695644, val loss0.26374141103588045\n",
      "2023-06-26 10:15:06.888052  Epoch79,Training loss 0.17425893840326626, val loss0.2585946130566299\n",
      "2023-06-26 10:15:10.729650  Epoch89,Training loss 0.16098695030068136, val loss0.2635761769488454\n",
      "2023-06-26 10:15:14.737335  Epoch99,Training loss 0.14898241596047285, val loss0.29753332398831844\n"
     ]
    }
   ],
   "source": [
    "training_loop_gpu(\n",
    "    n_epochs=100,\n",
    "    optimizer = optimizer,\n",
    "    model = model,\n",
    "    loss_fn=loss_fn,\n",
    "    train_loader = train_loader,\n",
    "    val_loader= val_loader\n",
    ")"
   ],
   "metadata": {
    "collapsed": false
   }
  },
  {
   "cell_type": "code",
   "execution_count": 66,
   "outputs": [],
   "source": [
    "class Net(nn.Module):\n",
    "    def __init__(self):\n",
    "        super().__init__()\n",
    "        self.conv1 = nn.Conv2d(3,32,kernel_size=(3,3),padding=1)#图片输入为32*32*3\n",
    "        self.conv2 = nn.Conv2d(32,16,kernel_size=(3,3),padding=1)\n",
    "        self.fc1 = nn.Linear(8*8*16,32)\n",
    "        self.fc2 = nn.Linear(32,2)\n",
    "\n",
    "    def forward(self,x):\n",
    "        out = F.max_pool2d(torch.tanh(self.conv1(x)),2)\n",
    "        out = F.max_pool2d(torch.tanh(self.conv2(out)),2)\n",
    "        out = out.view(-1,8*8*16)\n",
    "        out = torch.tanh(self.fc1(out))\n",
    "        out = self.fc2(out)\n",
    "        return out\n",
    "\n",
    "model = Net().to(device = device)"
   ],
   "metadata": {
    "collapsed": false
   }
  },
  {
   "cell_type": "code",
   "execution_count": 68,
   "outputs": [
    {
     "name": "stdout",
     "output_type": "stream",
     "text": [
      "2023-06-26 10:38:48.706795  Epoch1,Training loss 0.4656846857374641, val loss0.44647905610169575\n",
      "2023-06-26 10:38:53.236008  Epoch9,Training loss 0.3135569624270603, val loss0.31157756459181474\n",
      "2023-06-26 10:38:58.773244  Epoch19,Training loss 0.27522212627587045, val loss0.279881265702521\n",
      "2023-06-26 10:39:04.287267  Epoch29,Training loss 0.24458810179286702, val loss0.26329027761699286\n",
      "2023-06-26 10:39:09.754661  Epoch39,Training loss 0.2149194075613265, val loss0.32838575821963084\n",
      "2023-06-26 10:39:15.232394  Epoch49,Training loss 0.1929901296830481, val loss0.18797393404184634\n",
      "2023-06-26 10:39:20.711319  Epoch59,Training loss 0.17093188885101088, val loss0.17283006007694135\n",
      "2023-06-26 10:39:26.255990  Epoch69,Training loss 0.15006340245247646, val loss0.16980539426017718\n",
      "2023-06-26 10:39:31.744605  Epoch79,Training loss 0.12990277405282494, val loss0.1513624483138133\n",
      "2023-06-26 10:39:37.388228  Epoch89,Training loss 0.11181662120162301, val loss0.1116582424540049\n",
      "2023-06-26 10:39:42.868079  Epoch99,Training loss 0.09445803607725034, val loss0.09775263837473408\n"
     ]
    }
   ],
   "source": [
    "model = Net().to(device=device)\n",
    "train_loader = torch.utils.data.DataLoader(cifar2,batch_size = 64,shuffle =True)\n",
    "val_loader = torch.utils.data.DataLoader(cifar2,batch_size = 64,shuffle = False)\n",
    "\n",
    "optimizer = optim.SGD(model.parameters(),lr=1e-2)\n",
    "loss_fn = nn.CrossEntropyLoss()\n",
    "training_loop_gpu(\n",
    "    n_epochs = 100,\n",
    "    optimizer=optimizer,\n",
    "    model=model,\n",
    "    loss_fn=loss_fn,\n",
    "    train_loader= train_loader,\n",
    "    val_loader= val_loader\n",
    ")"
   ],
   "metadata": {
    "collapsed": false
   }
  },
  {
   "cell_type": "code",
   "execution_count": 75,
   "outputs": [],
   "source": [
    "def training_loop_l2reg(n_epochs,optimizer,model,loss_fn,train_loader,val_loader):\n",
    "    for epoch in range(1,n_epochs+1):\n",
    "        loss_train =0.0\n",
    "        loss_val = 0.0\n",
    "        for imgs,labels in train_loader:\n",
    "            imgs = imgs.to(device=device)\n",
    "            labels = labels.to(device=device)\n",
    "            output = model(imgs)\n",
    "            loss = loss_fn(output,labels)\n",
    "\n",
    "            l2_lambda = 0.001\n",
    "            l2_norm = sum(p.pow(2.0).sum() for p in model.parameters())\n",
    "            loss = loss +l2_lambda*l2_norm\n",
    "\n",
    "            optimizer.zero_grad()\n",
    "            loss.backward()\n",
    "            optimizer.step()\n",
    "\n",
    "            loss_train += loss.item()\n",
    "\n",
    "        optimizer.zero_grad()\n",
    "        for imgs_val,labels_val in val_loader:\n",
    "            imgs_val = imgs_val.to(device=device)\n",
    "            labels_val = labels_val.to(device=device)\n",
    "            outputs_val = model(imgs_val)\n",
    "            loss_batch_val = loss_fn(outputs_val,labels_val)\n",
    "            loss_val+=loss_batch_val.item()\n",
    "\n",
    "        if epoch ==1 or epoch % 10 ==0:\n",
    "            print('{}  Epoch:{}, Training Loss:{}, Val Loss:{}'.format(\n",
    "                datetime.datetime.now(),epoch,\n",
    "                loss_train/len(train_loader),\n",
    "                loss_val/len(val_loader)\n",
    "            ))"
   ],
   "metadata": {
    "collapsed": false
   }
  },
  {
   "cell_type": "code",
   "execution_count": 76,
   "outputs": [
    {
     "name": "stdout",
     "output_type": "stream",
     "text": [
      "2023-06-26 13:12:31.335688  Epoch:1, Training Loss:0.5913477388157207, Val Loss:0.48916058593494877\n",
      "2023-06-26 13:12:37.835801  Epoch:10, Training Loss:0.34441316469459776, Val Loss:0.3139751574416069\n",
      "2023-06-26 13:12:45.486841  Epoch:20, Training Loss:0.30468513232887173, Val Loss:0.2919388568610143\n",
      "2023-06-26 13:12:52.714241  Epoch:30, Training Loss:0.2794537749260094, Val Loss:0.2582407786398177\n",
      "2023-06-26 13:12:59.898666  Epoch:40, Training Loss:0.257699466624837, Val Loss:0.22307842860745777\n",
      "2023-06-26 13:13:07.142139  Epoch:50, Training Loss:0.23420357727890562, Val Loss:0.2429659642326604\n",
      "2023-06-26 13:13:14.443110  Epoch:60, Training Loss:0.2180615948738566, Val Loss:0.21067666181713152\n",
      "2023-06-26 13:13:21.605093  Epoch:70, Training Loss:0.1995242051068385, Val Loss:0.17190559168055558\n",
      "2023-06-26 13:13:28.718427  Epoch:80, Training Loss:0.18858839125390264, Val Loss:0.16590828920720488\n",
      "2023-06-26 13:13:35.937452  Epoch:90, Training Loss:0.17424065743092518, Val Loss:0.1424321585637369\n",
      "2023-06-26 13:13:43.132151  Epoch:100, Training Loss:0.16000952742471816, Val Loss:0.1463969476568471\n"
     ]
    }
   ],
   "source": [
    "model = Net().to(device=device)\n",
    "train_loader = torch.utils.data.DataLoader(cifar2,batch_size=64,shuffle=True)\n",
    "val_loader = torch.utils.data.DataLoader(cifar2,batch_size = 64,shuffle=False)\n",
    "optimizer = optim.SGD(model.parameters(),lr=1e-2)\n",
    "loss_fn = nn.CrossEntropyLoss()\n",
    "training_loop_l2reg(\n",
    "    n_epochs=100,\n",
    "    optimizer=optimizer,\n",
    "    model=model,\n",
    "    loss_fn=loss_fn,\n",
    "    train_loader=train_loader,\n",
    "    val_loader=val_loader\n",
    ")"
   ],
   "metadata": {
    "collapsed": false
   }
  },
  {
   "cell_type": "code",
   "execution_count": 77,
   "outputs": [
    {
     "name": "stdout",
     "output_type": "stream",
     "text": [
      "2023-06-26 13:14:55.508633  Epoch:1, Training Loss:0.4288949313437104, Val Loss:0.3355512851552599\n",
      "2023-06-26 13:15:03.227826  Epoch:10, Training Loss:0.2308111139543497, Val Loss:0.1517702518090321\n",
      "2023-06-26 13:15:11.838301  Epoch:20, Training Loss:0.1585246867909553, Val Loss:0.0936319329034371\n",
      "2023-06-26 13:15:20.428750  Epoch:30, Training Loss:0.135344514184317, Val Loss:0.047310657728060035\n",
      "2023-06-26 13:15:28.887621  Epoch:40, Training Loss:0.12389581541346896, Val Loss:0.03300961354083032\n",
      "2023-06-26 13:15:37.390772  Epoch:50, Training Loss:0.1176353469491005, Val Loss:0.04046628093880832\n",
      "2023-06-26 13:15:46.164801  Epoch:60, Training Loss:0.11521156383737637, Val Loss:0.020974884008407402\n",
      "2023-06-26 13:15:54.609470  Epoch:70, Training Loss:0.12557942311095585, Val Loss:0.05854076321480001\n",
      "2023-06-26 13:16:03.302405  Epoch:80, Training Loss:0.10592553726616938, Val Loss:0.017863664206615677\n",
      "2023-06-26 13:16:12.262968  Epoch:90, Training Loss:0.10297255042442091, Val Loss:0.01891803028726369\n",
      "2023-06-26 13:16:21.190611  Epoch:100, Training Loss:0.104603322780436, Val Loss:0.022752525347172266\n"
     ]
    }
   ],
   "source": [
    "model = Net().to(device=device)\n",
    "train_loader = torch.utils.data.DataLoader(cifar2,batch_size= 64,shuffle=True)\n",
    "val_loader = torch.utils.data.DataLoader(cifar2_val,batch_size = 64,shuffle=False)\n",
    "# optimizer = optim.SGD(model.parameters(),lr=1e-2)\n",
    "optimizer = optim.Adam(model.parameters())\n",
    "loss_fn = nn.CrossEntropyLoss()\n",
    "training_loop_l2reg(\n",
    "    n_epochs=100,\n",
    "    optimizer=optimizer,\n",
    "    model=model,\n",
    "    loss_fn=loss_fn,\n",
    "    train_loader=train_loader,\n",
    "    val_loader=val_loader\n",
    ")"
   ],
   "metadata": {
    "collapsed": false
   }
  },
  {
   "cell_type": "code",
   "execution_count": 83,
   "outputs": [],
   "source": [
    "class NetDropout(nn.Module):\n",
    "    def __init__(self,n_chans1=32):\n",
    "        super().__init__()\n",
    "        self.n_chans1= n_chans1\n",
    "        self.conv1 = nn.Conv2d(3,n_chans1,kernel_size=(3,3),padding=1)\n",
    "        self.conv1_dropout = nn.Dropout2d(p=0.4)\n",
    "        self.conv2 =nn.Conv2d(n_chans1,n_chans1//2,kernel_size=(3,3),padding=1)\n",
    "        self.conv2_dropout = nn.Dropout2d(p=0.4)\n",
    "        self.fc1 = nn.Linear(8*8*n_chans1//2,32)\n",
    "        self.fc2 = nn.Linear(32,2)\n",
    "\n",
    "    def forward(self,x):\n",
    "        out = F.max_pool2d(torch.tanh(self.conv1(x)),2)\n",
    "        out = self.conv1_dropout(out)\n",
    "        out = F.max_pool2d(torch.tanh(self.conv2(out)),2)\n",
    "        out = self.conv2_dropout(out)\n",
    "        out = out.view(-1,8*8*self.n_chans1//2)\n",
    "        out = torch.tanh(self.fc1(out))\n",
    "        out = self.fc2(out)\n",
    "        return out"
   ],
   "metadata": {
    "collapsed": false
   }
  },
  {
   "cell_type": "code",
   "execution_count": 94,
   "outputs": [
    {
     "name": "stdout",
     "output_type": "stream",
     "text": [
      "2023-06-26 15:03:10.584030  Epoch:1, Training Loss:0.6120845166740904, Val Loss:0.5135655738413334\n",
      "2023-06-26 15:03:16.447435  Epoch:10, Training Loss:0.40827892141737, Val Loss:0.38868282455950975\n",
      "2023-06-26 15:03:22.690690  Epoch:20, Training Loss:0.3840621606369687, Val Loss:0.3604435487650335\n"
     ]
    },
    {
     "ename": "KeyboardInterrupt",
     "evalue": "",
     "output_type": "error",
     "traceback": [
      "\u001B[0;31m---------------------------------------------------------------------------\u001B[0m",
      "\u001B[0;31mKeyboardInterrupt\u001B[0m                         Traceback (most recent call last)",
      "Cell \u001B[0;32mIn [94], line 6\u001B[0m\n\u001B[1;32m      4\u001B[0m optimizer \u001B[38;5;241m=\u001B[39m optim\u001B[38;5;241m.\u001B[39mSGD(model\u001B[38;5;241m.\u001B[39mparameters(),lr\u001B[38;5;241m=\u001B[39m\u001B[38;5;241m1e-2\u001B[39m)\n\u001B[1;32m      5\u001B[0m loss_fn \u001B[38;5;241m=\u001B[39m nn\u001B[38;5;241m.\u001B[39mCrossEntropyLoss()\n\u001B[0;32m----> 6\u001B[0m \u001B[43mtraining_loop_l2reg\u001B[49m\u001B[43m(\u001B[49m\n\u001B[1;32m      7\u001B[0m \u001B[43m    \u001B[49m\u001B[43mn_epochs\u001B[49m\u001B[38;5;241;43m=\u001B[39;49m\u001B[38;5;241;43m100\u001B[39;49m\u001B[43m,\u001B[49m\n\u001B[1;32m      8\u001B[0m \u001B[43m    \u001B[49m\u001B[43moptimizer\u001B[49m\u001B[38;5;241;43m=\u001B[39;49m\u001B[43moptimizer\u001B[49m\u001B[43m,\u001B[49m\n\u001B[1;32m      9\u001B[0m \u001B[43m    \u001B[49m\u001B[43mmodel\u001B[49m\u001B[43m \u001B[49m\u001B[38;5;241;43m=\u001B[39;49m\u001B[43m \u001B[49m\u001B[43mmodel\u001B[49m\u001B[43m,\u001B[49m\n\u001B[1;32m     10\u001B[0m \u001B[43m    \u001B[49m\u001B[43mloss_fn\u001B[49m\u001B[38;5;241;43m=\u001B[39;49m\u001B[43m \u001B[49m\u001B[43mloss_fn\u001B[49m\u001B[43m,\u001B[49m\n\u001B[1;32m     11\u001B[0m \u001B[43m    \u001B[49m\u001B[43mtrain_loader\u001B[49m\u001B[38;5;241;43m=\u001B[39;49m\u001B[43mtrain_loader\u001B[49m\u001B[43m,\u001B[49m\n\u001B[1;32m     12\u001B[0m \u001B[43m    \u001B[49m\u001B[43mval_loader\u001B[49m\u001B[38;5;241;43m=\u001B[39;49m\u001B[43mval_loader\u001B[49m\n\u001B[1;32m     13\u001B[0m \u001B[43m)\u001B[49m\n",
      "Cell \u001B[0;32mIn [75], line 16\u001B[0m, in \u001B[0;36mtraining_loop_l2reg\u001B[0;34m(n_epochs, optimizer, model, loss_fn, train_loader, val_loader)\u001B[0m\n\u001B[1;32m     13\u001B[0m loss \u001B[38;5;241m=\u001B[39m loss \u001B[38;5;241m+\u001B[39ml2_lambda\u001B[38;5;241m*\u001B[39ml2_norm\n\u001B[1;32m     15\u001B[0m optimizer\u001B[38;5;241m.\u001B[39mzero_grad()\n\u001B[0;32m---> 16\u001B[0m \u001B[43mloss\u001B[49m\u001B[38;5;241;43m.\u001B[39;49m\u001B[43mbackward\u001B[49m\u001B[43m(\u001B[49m\u001B[43m)\u001B[49m\n\u001B[1;32m     17\u001B[0m optimizer\u001B[38;5;241m.\u001B[39mstep()\n\u001B[1;32m     19\u001B[0m loss_train \u001B[38;5;241m+\u001B[39m\u001B[38;5;241m=\u001B[39m loss\u001B[38;5;241m.\u001B[39mitem()\n",
      "File \u001B[0;32m~/anaconda3/envs/yolov7/lib/python3.8/site-packages/torch/_tensor.py:396\u001B[0m, in \u001B[0;36mTensor.backward\u001B[0;34m(self, gradient, retain_graph, create_graph, inputs)\u001B[0m\n\u001B[1;32m    387\u001B[0m \u001B[38;5;28;01mif\u001B[39;00m has_torch_function_unary(\u001B[38;5;28mself\u001B[39m):\n\u001B[1;32m    388\u001B[0m     \u001B[38;5;28;01mreturn\u001B[39;00m handle_torch_function(\n\u001B[1;32m    389\u001B[0m         Tensor\u001B[38;5;241m.\u001B[39mbackward,\n\u001B[1;32m    390\u001B[0m         (\u001B[38;5;28mself\u001B[39m,),\n\u001B[0;32m   (...)\u001B[0m\n\u001B[1;32m    394\u001B[0m         create_graph\u001B[38;5;241m=\u001B[39mcreate_graph,\n\u001B[1;32m    395\u001B[0m         inputs\u001B[38;5;241m=\u001B[39minputs)\n\u001B[0;32m--> 396\u001B[0m \u001B[43mtorch\u001B[49m\u001B[38;5;241;43m.\u001B[39;49m\u001B[43mautograd\u001B[49m\u001B[38;5;241;43m.\u001B[39;49m\u001B[43mbackward\u001B[49m\u001B[43m(\u001B[49m\u001B[38;5;28;43mself\u001B[39;49m\u001B[43m,\u001B[49m\u001B[43m \u001B[49m\u001B[43mgradient\u001B[49m\u001B[43m,\u001B[49m\u001B[43m \u001B[49m\u001B[43mretain_graph\u001B[49m\u001B[43m,\u001B[49m\u001B[43m \u001B[49m\u001B[43mcreate_graph\u001B[49m\u001B[43m,\u001B[49m\u001B[43m \u001B[49m\u001B[43minputs\u001B[49m\u001B[38;5;241;43m=\u001B[39;49m\u001B[43minputs\u001B[49m\u001B[43m)\u001B[49m\n",
      "File \u001B[0;32m~/anaconda3/envs/yolov7/lib/python3.8/site-packages/torch/autograd/__init__.py:173\u001B[0m, in \u001B[0;36mbackward\u001B[0;34m(tensors, grad_tensors, retain_graph, create_graph, grad_variables, inputs)\u001B[0m\n\u001B[1;32m    168\u001B[0m     retain_graph \u001B[38;5;241m=\u001B[39m create_graph\n\u001B[1;32m    170\u001B[0m \u001B[38;5;66;03m# The reason we repeat same the comment below is that\u001B[39;00m\n\u001B[1;32m    171\u001B[0m \u001B[38;5;66;03m# some Python versions print out the first line of a multi-line function\u001B[39;00m\n\u001B[1;32m    172\u001B[0m \u001B[38;5;66;03m# calls in the traceback and some print out the last line\u001B[39;00m\n\u001B[0;32m--> 173\u001B[0m \u001B[43mVariable\u001B[49m\u001B[38;5;241;43m.\u001B[39;49m\u001B[43m_execution_engine\u001B[49m\u001B[38;5;241;43m.\u001B[39;49m\u001B[43mrun_backward\u001B[49m\u001B[43m(\u001B[49m\u001B[43m  \u001B[49m\u001B[38;5;66;43;03m# Calls into the C++ engine to run the backward pass\u001B[39;49;00m\n\u001B[1;32m    174\u001B[0m \u001B[43m    \u001B[49m\u001B[43mtensors\u001B[49m\u001B[43m,\u001B[49m\u001B[43m \u001B[49m\u001B[43mgrad_tensors_\u001B[49m\u001B[43m,\u001B[49m\u001B[43m \u001B[49m\u001B[43mretain_graph\u001B[49m\u001B[43m,\u001B[49m\u001B[43m \u001B[49m\u001B[43mcreate_graph\u001B[49m\u001B[43m,\u001B[49m\u001B[43m \u001B[49m\u001B[43minputs\u001B[49m\u001B[43m,\u001B[49m\n\u001B[1;32m    175\u001B[0m \u001B[43m    \u001B[49m\u001B[43mallow_unreachable\u001B[49m\u001B[38;5;241;43m=\u001B[39;49m\u001B[38;5;28;43;01mTrue\u001B[39;49;00m\u001B[43m,\u001B[49m\u001B[43m \u001B[49m\u001B[43maccumulate_grad\u001B[49m\u001B[38;5;241;43m=\u001B[39;49m\u001B[38;5;28;43;01mTrue\u001B[39;49;00m\u001B[43m)\u001B[49m\n",
      "\u001B[0;31mKeyboardInterrupt\u001B[0m: "
     ]
    }
   ],
   "source": [
    "model = NetDropout(n_chans1=32).to(device=device)\n",
    "train_loader = torch.utils.data.DataLoader(cifar2,batch_size= 64,shuffle=True)\n",
    "val_loader = torch.utils.data.DataLoader(cifar2_val,batch_size = 64,shuffle=False)\n",
    "optimizer = optim.SGD(model.parameters(),lr=1e-2)\n",
    "loss_fn = nn.CrossEntropyLoss()\n",
    "training_loop_l2reg(\n",
    "    n_epochs=100,\n",
    "    optimizer=optimizer,\n",
    "    model = model,\n",
    "    loss_fn= loss_fn,\n",
    "    train_loader=train_loader,\n",
    "    val_loader=val_loader\n",
    ")"
   ],
   "metadata": {
    "collapsed": false
   }
  },
  {
   "cell_type": "code",
   "execution_count": 92,
   "outputs": [
    {
     "name": "stdout",
     "output_type": "stream",
     "text": [
      "Accuracy train: 0.99\n",
      "Accuracy val: 0.99\n"
     ]
    }
   ],
   "source": [
    "all_acc_dict = collections.OrderedDict()\n",
    "\n",
    "def validate(model, train_loader, val_loader):\n",
    "    accdict = {}\n",
    "    for name, loader in [(\"train\", train_loader), (\"val\", val_loader)]:\n",
    "        correct = 0\n",
    "        total = 0\n",
    "\n",
    "        with torch.no_grad():\n",
    "            for imgs, labels in loader:\n",
    "                imgs = imgs.to(device=device)\n",
    "                labels = labels.to(device=device)\n",
    "                outputs = model(imgs)\n",
    "                _, predicted = torch.max(outputs, dim=1) # <1>\n",
    "                total += labels.shape[0]\n",
    "                correct += int((predicted == labels).sum())\n",
    "\n",
    "        print(\"Accuracy {}: {:.2f}\".format(name , correct / total))\n",
    "        accdict[name] = correct / total\n",
    "    return accdict\n",
    "\n",
    "all_acc_dict[\"baseline\"] = validate(model, train_loader, val_loader)"
   ],
   "metadata": {
    "collapsed": false
   }
  },
  {
   "cell_type": "code",
   "execution_count": 88,
   "outputs": [
    {
     "name": "stdout",
     "output_type": "stream",
     "text": [
      "Accuracytrain: 0.90\n",
      "Accuracyval: 0.90\n"
     ]
    },
    {
     "ename": "NameError",
     "evalue": "name 'all_acc_dict' is not defined",
     "output_type": "error",
     "traceback": [
      "\u001B[0;31m---------------------------------------------------------------------------\u001B[0m",
      "\u001B[0;31mNameError\u001B[0m                                 Traceback (most recent call last)",
      "Cell \u001B[0;32mIn [88], line 1\u001B[0m\n\u001B[0;32m----> 1\u001B[0m \u001B[43mall_acc_dict\u001B[49m[\u001B[38;5;124m\"\u001B[39m\u001B[38;5;124mdropout\u001B[39m\u001B[38;5;124m\"\u001B[39m] \u001B[38;5;241m=\u001B[39m validate(model,train_loader\u001B[38;5;241m=\u001B[39mtrain_loader,val_loader\u001B[38;5;241m=\u001B[39mval_loader)\n",
      "\u001B[0;31mNameError\u001B[0m: name 'all_acc_dict' is not defined"
     ]
    }
   ],
   "source": [
    "all_acc_dict[\"dropout\"] = validate(model,train_loader=train_loader,val_loader=val_loader)"
   ],
   "metadata": {
    "collapsed": false
   }
  },
  {
   "cell_type": "code",
   "execution_count": 89,
   "outputs": [],
   "source": [
    "class NetBatchNorm(nn.Module):\n",
    "    def __init__(self,n_chan1=32):\n",
    "        super().__init__()\n",
    "        self.n_chans1 =n_chan1\n",
    "        self.conv1 = nn.Conv2d(3,n_chan1,kernel_size=(3,3),padding=1)\n",
    "        self.conv1_batchnorm = nn.BatchNorm2d(num_features=n_chan1)\n",
    "        self.conv2=nn.Conv2d(n_chan1,n_chan1//2,kernel_size=3,padding=1)\n",
    "        self.conv2_batchnorm = nn.BatchNorm2d(num_features=n_chan1//2)\n",
    "        self.fc1 = nn.Linear(8*8*n_chan1//2,32)\n",
    "        self.fc2 = nn.Linear(32,2)\n",
    "\n",
    "    def forward(self,x):\n",
    "        out = self.conv1_batchnorm(self.conv1(x))\n",
    "        out = F.max_pool2d(torch.tanh(out),2)\n",
    "        out = self.conv2_batchnorm(self.conv2(out))\n",
    "        out = F.max_pool2d(torch.tanh(out),2)\n",
    "        out = out.view(-1,8*8*self.n_chans1//2)\n",
    "        out = torch.tanh(self.fc1(out))\n",
    "        out = self.fc2(out)\n",
    "        return out\n"
   ],
   "metadata": {
    "collapsed": false
   }
  },
  {
   "cell_type": "code",
   "execution_count": 95,
   "outputs": [
    {
     "name": "stdout",
     "output_type": "stream",
     "text": [
      "2023-06-26 15:03:36.622178  Epoch:1, Training Loss:0.5449434695350137, Val Loss:0.39524015970528126\n",
      "2023-06-26 15:03:43.289051  Epoch:10, Training Loss:0.34611664114484364, Val Loss:0.293477981351316\n",
      "2023-06-26 15:03:50.705650  Epoch:20, Training Loss:0.2974967035897978, Val Loss:0.2928524976596236\n",
      "2023-06-26 15:03:57.918869  Epoch:30, Training Loss:0.2535837165489318, Val Loss:0.28891638526692986\n",
      "2023-06-26 15:04:05.231487  Epoch:40, Training Loss:0.21597634303342006, Val Loss:0.30067515186965466\n",
      "2023-06-26 15:04:12.478079  Epoch:50, Training Loss:0.19162158013149433, Val Loss:0.3661254523321986\n",
      "2023-06-26 15:04:19.749858  Epoch:60, Training Loss:0.1691076123410729, Val Loss:0.334700187202543\n",
      "2023-06-26 15:04:27.059617  Epoch:70, Training Loss:0.15350698470879512, Val Loss:0.6195342019200325\n",
      "2023-06-26 15:04:34.455637  Epoch:80, Training Loss:0.13657809252951555, Val Loss:0.34356750594452024\n",
      "2023-06-26 15:04:41.846794  Epoch:90, Training Loss:0.12340900610396817, Val Loss:0.3953356631100178\n",
      "2023-06-26 15:04:49.236730  Epoch:100, Training Loss:0.12108325516911829, Val Loss:0.4911121791228652\n"
     ]
    }
   ],
   "source": [
    "model = NetBatchNorm(n_chan1=32).to(device=device)\n",
    "optimizer = optim.SGD(model.parameters(),lr=1e-2)\n",
    "train_loader = torch.utils.data.DataLoader(cifar2,batch_size= 64,shuffle=True)\n",
    "val_loader = torch.utils.data.DataLoader(cifar2_val,batch_size = 64,shuffle=False)\n",
    "loss_fn= nn.CrossEntropyLoss()\n",
    "training_loop_l2reg(\n",
    "    n_epochs=100,\n",
    "    optimizer=optimizer,\n",
    "    model=model,\n",
    "    loss_fn=loss_fn,\n",
    "    train_loader=train_loader,\n",
    "    val_loader=val_loader\n",
    ")"
   ],
   "metadata": {
    "collapsed": false
   }
  },
  {
   "cell_type": "code",
   "execution_count": 96,
   "outputs": [
    {
     "name": "stdout",
     "output_type": "stream",
     "text": [
      "Accuracy train: 0.95\n",
      "Accuracy val: 0.86\n"
     ]
    }
   ],
   "source": [
    "temp = validate(model,train_loader=train_loader,val_loader=val_loader)"
   ],
   "metadata": {
    "collapsed": false
   }
  },
  {
   "cell_type": "code",
   "execution_count": 115,
   "outputs": [],
   "source": [
    "class NetRes(nn.Module):\n",
    "    def __init__(self,n_chans1=32):\n",
    "        super().__init__()\n",
    "        self.n_chans1 = n_chans1\n",
    "        self.conv1 = nn.Conv2d(3,n_chans1,kernel_size=3,padding=1)\n",
    "        self.conv2 = nn.Conv2d(n_chans1,n_chans1//2,kernel_size=3,padding=1)\n",
    "        self.conv3 = nn.Conv2d(n_chans1//2,n_chans1//2,kernel_size=3,padding=1)\n",
    "        self.fc1 = nn.Linear(4*4*n_chans1//2,32)\n",
    "        self.fc2 = nn.Linear(32,2)\n",
    "\n",
    "    def forward(self,x):\n",
    "        out = F.max_pool2d(torch.relu(self.conv1(x)),2)\n",
    "        out = F.max_pool2d(torch.relu(self.conv2(out)),2)\n",
    "        out1 = out\n",
    "        out =F.max_pool2d(torch.relu(self.conv3(out))+ out1,2)\n",
    "        out = out.view(-1, 4 * 4 * self.n_chans1 // 2)\n",
    "        out = torch.relu(self.fc1(out))\n",
    "        out = self.fc2(out)\n",
    "        return out"
   ],
   "metadata": {
    "collapsed": false
   }
  },
  {
   "cell_type": "code",
   "execution_count": 108,
   "outputs": [],
   "source": [
    "class NetRes(nn.Module):\n",
    "    def __init__(self, n_chans1=32):\n",
    "        super().__init__()\n",
    "        self.n_chans1 = n_chans1\n",
    "        self.conv1 = nn.Conv2d(3, n_chans1, kernel_size=3, padding=1)\n",
    "        self.conv2 = nn.Conv2d(n_chans1, n_chans1 // 2, kernel_size=3,\n",
    "                               padding=1)\n",
    "        self.conv3 = nn.Conv2d(n_chans1 // 2, n_chans1 // 2,\n",
    "                               kernel_size=3, padding=1)\n",
    "        self.fc1 = nn.Linear(4 * 4 * n_chans1 // 2, 32)\n",
    "        self.fc2 = nn.Linear(32, 2)\n",
    "\n",
    "    def forward(self, x):\n",
    "        out = F.max_pool2d(torch.relu(self.conv1(x)), 2)\n",
    "        out = F.max_pool2d(torch.relu(self.conv2(out)), 2)\n",
    "        out1 = out\n",
    "        out = F.max_pool2d(torch.relu(self.conv3(out)) + out1, 2)\n",
    "        out = out.view(-1, 4 * 4 * self.n_chans1 // 2)\n",
    "        out = torch.relu(self.fc1(out))\n",
    "        out = self.fc2(out)\n",
    "        return out"
   ],
   "metadata": {
    "collapsed": false
   }
  },
  {
   "cell_type": "code",
   "execution_count": 116,
   "outputs": [
    {
     "name": "stdout",
     "output_type": "stream",
     "text": [
      "2023-06-26 15:48:21.953299  Epoch:1, Training Loss:0.6619293955480976, Val Loss:0.5334691572934389\n",
      "2023-06-26 15:48:28.656001  Epoch:10, Training Loss:0.3585868415179526, Val Loss:0.4347111517563462\n",
      "2023-06-26 15:48:35.656361  Epoch:20, Training Loss:0.31749294318590954, Val Loss:0.28049354907125235\n",
      "2023-06-26 15:48:42.516606  Epoch:30, Training Loss:0.28926404987930493, Val Loss:0.28737819707021117\n",
      "2023-06-26 15:48:49.362407  Epoch:40, Training Loss:0.2633959049252188, Val Loss:0.2572847902774811\n",
      "2023-06-26 15:48:56.138205  Epoch:50, Training Loss:0.24256140088579456, Val Loss:0.2669653566554189\n",
      "2023-06-26 15:49:02.949365  Epoch:60, Training Loss:0.21999769183290993, Val Loss:0.273815696593374\n",
      "2023-06-26 15:49:09.807501  Epoch:70, Training Loss:0.1981345122786844, Val Loss:0.24948967853561044\n",
      "2023-06-26 15:49:16.865062  Epoch:80, Training Loss:0.19041296953608275, Val Loss:0.7140592038631439\n",
      "2023-06-26 15:49:24.517461  Epoch:90, Training Loss:0.16498549149674216, Val Loss:0.26184906088747084\n",
      "2023-06-26 15:49:31.412146  Epoch:100, Training Loss:0.15466852533589504, Val Loss:0.27237024274654686\n"
     ]
    }
   ],
   "source": [
    "model = NetRes(n_chans1 = 32).to(device= device)\n",
    "optimizer = optim.SGD(model.parameters(),lr= 1e-2)\n",
    "\n",
    "loss_fn = nn.CrossEntropyLoss()\n",
    "training_loop_l2reg(\n",
    "    n_epochs= 100,\n",
    "    optimizer = optimizer,\n",
    "    model = model,\n",
    "    loss_fn = loss_fn,\n",
    "    train_loader = train_loader,\n",
    "    val_loader = val_loader\n",
    ")"
   ],
   "metadata": {
    "collapsed": false
   }
  },
  {
   "cell_type": "code",
   "execution_count": 117,
   "outputs": [
    {
     "name": "stdout",
     "output_type": "stream",
     "text": [
      "Accuracy train: 0.97\n",
      "Accuracy val: 0.91\n"
     ]
    }
   ],
   "source": [
    "temp = validate(model,train_loader,val_loader)"
   ],
   "metadata": {
    "collapsed": false
   }
  },
  {
   "cell_type": "code",
   "execution_count": 125,
   "outputs": [],
   "source": [
    "class ResBlock(nn.Module):\n",
    "    def __init__(self,n_chans):\n",
    "        super(ResBlock,self).__init__()\n",
    "        self.conv = nn.Conv2d(n_chans,n_chans,kernel_size=3,padding=1,bias=False)\n",
    "        self.batch_norm = nn.BatchNorm2d(num_features=n_chans)\n",
    "        #权重参数的初始化\n",
    "        torch.nn.init.kaiming_normal_(self.conv.weight,nonlinearity='relu')\n",
    "        torch.nn.init.constant_(self.batch_norm.weight,0.5)\n",
    "        torch.nn.init.zeros_(self.batch_norm.bias)\n",
    "\n",
    "    def forward(self,x):\n",
    "        out = self.conv(x)\n",
    "        out = self.batch_norm(out)\n",
    "        out = torch.relu(out)\n",
    "        return out +x"
   ],
   "metadata": {
    "collapsed": false
   }
  },
  {
   "cell_type": "code",
   "execution_count": 126,
   "outputs": [],
   "source": [
    "class NetResDeep(nn.Module):\n",
    "    def __init__(self,n_chans1=32,n_blocks=10):\n",
    "        super().__init__()\n",
    "        self.n_chans1 = n_chans1\n",
    "        self.conv1 = nn.Conv2d(3,n_chans1,kernel_size=3,padding=1)\n",
    "        self.resblocks = nn.Sequential(\n",
    "            *(n_blocks*[ResBlock(n_chans=n_chans1)])\n",
    "        )\n",
    "        self.fc1 = nn.Linear(8*8*n_chans1,32)\n",
    "        self.fc2 = nn.Linear(32,2)\n",
    "\n",
    "    def forward(self,x):\n",
    "        out = F.max_pool2d(torch.relu(self.conv1(x)),2)\n",
    "        out = self.resblocks(out)\n",
    "        out = F.max_pool2d(out,2)\n",
    "        out = out.view(-1,8*8*self.n_chans1)\n",
    "        out = torch.relu(self.fc1(out))\n",
    "        out = self.fc2(out)\n",
    "        return out"
   ],
   "metadata": {
    "collapsed": false
   }
  },
  {
   "cell_type": "code",
   "execution_count": 127,
   "outputs": [
    {
     "name": "stdout",
     "output_type": "stream",
     "text": [
      "2023-06-26 17:58:16.367114  Epoch1,Training loss 0.47662949182425335, val loss0.4567755553871393\n",
      "2023-06-26 17:59:42.092887  Epoch9,Training loss 0.32191791660656593, val loss0.4051929754205048\n",
      "2023-06-26 18:01:30.189857  Epoch19,Training loss 0.25665861600713363, val loss0.3238971489481628\n",
      "2023-06-26 18:03:18.135357  Epoch29,Training loss 0.19169970020461993, val loss0.6358259380795062\n",
      "2023-06-26 18:05:06.133703  Epoch39,Training loss 0.1448209991405724, val loss0.46930999169126153\n",
      "2023-06-26 18:06:54.062624  Epoch49,Training loss 0.10272498176118751, val loss1.1189011726528406\n",
      "2023-06-26 18:08:43.015122  Epoch59,Training loss 0.08557656934117056, val loss0.47274179896339774\n",
      "2023-06-26 18:10:31.328357  Epoch69,Training loss 0.08113301218380546, val loss0.6278000008314848\n",
      "2023-06-26 18:12:19.443936  Epoch79,Training loss 0.048335591788629104, val loss2.3230073265731335\n",
      "2023-06-26 18:14:07.876007  Epoch89,Training loss 0.07252925341937003, val loss0.6277065477333963\n",
      "2023-06-26 18:15:56.522036  Epoch99,Training loss 0.04471786874924804, val loss0.8407980995252728\n",
      "Accuracy train: 0.82\n",
      "Accuracy val: 0.76\n"
     ]
    }
   ],
   "source": [
    "model =NetResDeep(n_chans1=32,n_blocks=100).to(device=device)\n",
    "optimizer = optim.SGD(model.parameters(),lr=3e-3)\n",
    "loss_fn = nn.CrossEntropyLoss()\n",
    "\n",
    "training_loop_gpu(\n",
    "    n_epochs = 100,\n",
    "    optimizer = optimizer,\n",
    "    model = model,\n",
    "    loss_fn = loss_fn,\n",
    "    train_loader=train_loader,\n",
    "    val_loader = val_loader\n",
    ")\n",
    "temp = validate(model,train_loader,val_loader)"
   ],
   "metadata": {
    "collapsed": false
   }
  },
  {
   "cell_type": "code",
   "execution_count": null,
   "outputs": [],
   "source": [],
   "metadata": {
    "collapsed": false
   }
  }
 ],
 "metadata": {
  "kernelspec": {
   "display_name": "Python 3",
   "language": "python",
   "name": "python3"
  },
  "language_info": {
   "codemirror_mode": {
    "name": "ipython",
    "version": 2
   },
   "file_extension": ".py",
   "mimetype": "text/x-python",
   "name": "python",
   "nbconvert_exporter": "python",
   "pygments_lexer": "ipython2",
   "version": "2.7.6"
  }
 },
 "nbformat": 4,
 "nbformat_minor": 0
}
